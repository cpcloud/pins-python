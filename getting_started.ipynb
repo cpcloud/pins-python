{
 "cells": [
  {
   "cell_type": "code",
   "execution_count": 1,
   "id": "a4ae5ca1",
   "metadata": {
    "execution": {
     "iopub.execute_input": "2022-04-01T20:46:50.810532Z",
     "iopub.status.busy": "2022-04-01T20:46:50.810179Z",
     "iopub.status.idle": "2022-04-01T20:46:51.120185Z",
     "shell.execute_reply": "2022-04-01T20:46:51.119567Z"
    },
    "nbsphinx": "hidden",
    "tags": []
   },
   "outputs": [],
   "source": [
    "import pandas as pd\n",
    "pd.options.display.max_rows = 25"
   ]
  },
  {
   "cell_type": "markdown",
   "id": "c6efac3a",
   "metadata": {},
   "source": [
    "Getting Started\n",
    "===============\n",
    "\n",
    "The pins package helps you publish data sets, models, and other R objects, making it easy to share them across projects and with your colleagues.\n",
    "You can pin objects to a variety of \"boards\", including local folders (to share on a networked drive or with dropbox), RStudio connect, Amazon S3, and more.\n",
    "This vignette will introduce you to the basics of pins."
   ]
  },
  {
   "cell_type": "code",
   "execution_count": 2,
   "id": "1cf58cb2",
   "metadata": {
    "execution": {
     "iopub.execute_input": "2022-04-01T20:46:51.123861Z",
     "iopub.status.busy": "2022-04-01T20:46:51.123507Z",
     "iopub.status.idle": "2022-04-01T20:46:51.183779Z",
     "shell.execute_reply": "2022-04-01T20:46:51.183175Z"
    }
   },
   "outputs": [],
   "source": [
    "from pins import board_local, board_folder, board_temp, board_urls"
   ]
  },
  {
   "cell_type": "markdown",
   "id": "be8b0c00",
   "metadata": {},
   "source": [
    "## Getting started\n",
    "\n",
    "Every pin lives in a pin *board*, so you must start by creating a pin board.\n",
    "In this vignette I'll use a temporary board which is automatically deleted when your python session is over:"
   ]
  },
  {
   "cell_type": "code",
   "execution_count": 3,
   "id": "58a5b1fd",
   "metadata": {
    "execution": {
     "iopub.execute_input": "2022-04-01T20:46:51.187104Z",
     "iopub.status.busy": "2022-04-01T20:46:51.186739Z",
     "iopub.status.idle": "2022-04-01T20:46:51.191766Z",
     "shell.execute_reply": "2022-04-01T20:46:51.191157Z"
    }
   },
   "outputs": [],
   "source": [
    "board = board_temp()"
   ]
  },
  {
   "cell_type": "markdown",
   "id": "3ca89caa",
   "metadata": {},
   "source": [
    "In real-life, you'd pick a board depending on how you want to share the data.\n",
    "Here are a few options:"
   ]
  },
  {
   "cell_type": "markdown",
   "id": "e1dd8af6",
   "metadata": {},
   "source": [
    "```python\n",
    "board = board_local() # share data across R sessions on the same computer\n",
    "board = board_folder(\"~/Dropbox\") # share data with others using dropbox\n",
    "board = board_folder(\"Z:\\\\my-team\\pins\") # share data using a shared network drive\n",
    "board = board_rsconnect() # share data with RStudio Connect\n",
    "```"
   ]
  },
  {
   "cell_type": "markdown",
   "id": "10670b0f",
   "metadata": {},
   "source": [
    "## Reading and writing data\n",
    "\n",
    "Once you have a pin board, you can write data to it with `pin_write()`:"
   ]
  },
  {
   "cell_type": "code",
   "execution_count": 4,
   "id": "e0ec1a61",
   "metadata": {
    "execution": {
     "iopub.execute_input": "2022-04-01T20:46:51.195025Z",
     "iopub.status.busy": "2022-04-01T20:46:51.194701Z",
     "iopub.status.idle": "2022-04-01T20:46:51.337975Z",
     "shell.execute_reply": "2022-04-01T20:46:51.337333Z"
    }
   },
   "outputs": [],
   "source": [
    "from pins.data import mtcars\n",
    "\n",
    "meta = board.pin_write(mtcars, \"mtcars\", type=\"csv\")"
   ]
  },
  {
   "cell_type": "markdown",
   "id": "4b76856b",
   "metadata": {},
   "source": [
    "The first argument is the object to save (usually a data frame, but it can be any R object), and the second argument gives the \"name\" of the pin.\n",
    "The name is basically equivalent to a file name: you'll use it when you later want to read the data from the pin.\n",
    "The only rule for a pin name is that it can't contain slashes."
   ]
  },
  {
   "cell_type": "markdown",
   "id": "384bce22",
   "metadata": {},
   "source": [
    "As you can see from the output, pins has chosen to save this data to an `.rds` file.\n",
    "But you can choose another option depending on your goals:\n",
    "\n",
    "-   `type = \"csv\"` uses `write.csv()` to create a `.csv` file. CSVs can read by any application, but only support simple columns (e.g. numbers, strings, dates), can take up a lot of disk space, and can be slow to read.\n",
    "-   `type = \"joblib\"` uses `joblib.dump()` to create a binary python data file. See the [joblib docs](https://joblib.readthedocs.io/en/latest/) for more information.\n",
    "\n",
    "🚧 Data formats TODO 🚧\n",
    "\n",
    "-   `type = \"arrow\"` uses `arrow::write_feather()` to create an arrow/feather file. [Arrow](https://arrow.apache.org) is a modern, language-independent, high-performance file format designed for data science. Not every tool can read arrow files, but support is growing rapidly.\n",
    "-   `type = \"json\"` uses `jsonlite::write_json()` to create a `.json` file. Pretty much every programming language can read json files, but they only work well for nested lists.\n",
    "\n",
    "After you've pinned an object, you can read it back with `pin_read()`:"
   ]
  },
  {
   "cell_type": "code",
   "execution_count": 5,
   "id": "288b399a",
   "metadata": {
    "execution": {
     "iopub.execute_input": "2022-04-01T20:46:51.341579Z",
     "iopub.status.busy": "2022-04-01T20:46:51.341221Z",
     "iopub.status.idle": "2022-04-01T20:46:51.371090Z",
     "shell.execute_reply": "2022-04-01T20:46:51.370395Z"
    }
   },
   "outputs": [
    {
     "data": {
      "text/html": [
       "<div>\n",
       "<style scoped>\n",
       "    .dataframe tbody tr th:only-of-type {\n",
       "        vertical-align: middle;\n",
       "    }\n",
       "\n",
       "    .dataframe tbody tr th {\n",
       "        vertical-align: top;\n",
       "    }\n",
       "\n",
       "    .dataframe thead th {\n",
       "        text-align: right;\n",
       "    }\n",
       "</style>\n",
       "<table border=\"1\" class=\"dataframe\">\n",
       "  <thead>\n",
       "    <tr style=\"text-align: right;\">\n",
       "      <th></th>\n",
       "      <th>mpg</th>\n",
       "      <th>cyl</th>\n",
       "      <th>disp</th>\n",
       "      <th>hp</th>\n",
       "      <th>drat</th>\n",
       "      <th>wt</th>\n",
       "      <th>qsec</th>\n",
       "      <th>vs</th>\n",
       "      <th>am</th>\n",
       "      <th>gear</th>\n",
       "      <th>carb</th>\n",
       "    </tr>\n",
       "  </thead>\n",
       "  <tbody>\n",
       "    <tr>\n",
       "      <th>0</th>\n",
       "      <td>21.0</td>\n",
       "      <td>6</td>\n",
       "      <td>160.0</td>\n",
       "      <td>110</td>\n",
       "      <td>3.90</td>\n",
       "      <td>2.620</td>\n",
       "      <td>16.46</td>\n",
       "      <td>0</td>\n",
       "      <td>1</td>\n",
       "      <td>4</td>\n",
       "      <td>4</td>\n",
       "    </tr>\n",
       "    <tr>\n",
       "      <th>1</th>\n",
       "      <td>21.0</td>\n",
       "      <td>6</td>\n",
       "      <td>160.0</td>\n",
       "      <td>110</td>\n",
       "      <td>3.90</td>\n",
       "      <td>2.875</td>\n",
       "      <td>17.02</td>\n",
       "      <td>0</td>\n",
       "      <td>1</td>\n",
       "      <td>4</td>\n",
       "      <td>4</td>\n",
       "    </tr>\n",
       "    <tr>\n",
       "      <th>2</th>\n",
       "      <td>22.8</td>\n",
       "      <td>4</td>\n",
       "      <td>108.0</td>\n",
       "      <td>93</td>\n",
       "      <td>3.85</td>\n",
       "      <td>2.320</td>\n",
       "      <td>18.61</td>\n",
       "      <td>1</td>\n",
       "      <td>1</td>\n",
       "      <td>4</td>\n",
       "      <td>1</td>\n",
       "    </tr>\n",
       "    <tr>\n",
       "      <th>3</th>\n",
       "      <td>21.4</td>\n",
       "      <td>6</td>\n",
       "      <td>258.0</td>\n",
       "      <td>110</td>\n",
       "      <td>3.08</td>\n",
       "      <td>3.215</td>\n",
       "      <td>19.44</td>\n",
       "      <td>1</td>\n",
       "      <td>0</td>\n",
       "      <td>3</td>\n",
       "      <td>1</td>\n",
       "    </tr>\n",
       "    <tr>\n",
       "      <th>4</th>\n",
       "      <td>18.7</td>\n",
       "      <td>8</td>\n",
       "      <td>360.0</td>\n",
       "      <td>175</td>\n",
       "      <td>3.15</td>\n",
       "      <td>3.440</td>\n",
       "      <td>17.02</td>\n",
       "      <td>0</td>\n",
       "      <td>0</td>\n",
       "      <td>3</td>\n",
       "      <td>2</td>\n",
       "    </tr>\n",
       "    <tr>\n",
       "      <th>...</th>\n",
       "      <td>...</td>\n",
       "      <td>...</td>\n",
       "      <td>...</td>\n",
       "      <td>...</td>\n",
       "      <td>...</td>\n",
       "      <td>...</td>\n",
       "      <td>...</td>\n",
       "      <td>...</td>\n",
       "      <td>...</td>\n",
       "      <td>...</td>\n",
       "      <td>...</td>\n",
       "    </tr>\n",
       "    <tr>\n",
       "      <th>27</th>\n",
       "      <td>30.4</td>\n",
       "      <td>4</td>\n",
       "      <td>95.1</td>\n",
       "      <td>113</td>\n",
       "      <td>3.77</td>\n",
       "      <td>1.513</td>\n",
       "      <td>16.90</td>\n",
       "      <td>1</td>\n",
       "      <td>1</td>\n",
       "      <td>5</td>\n",
       "      <td>2</td>\n",
       "    </tr>\n",
       "    <tr>\n",
       "      <th>28</th>\n",
       "      <td>15.8</td>\n",
       "      <td>8</td>\n",
       "      <td>351.0</td>\n",
       "      <td>264</td>\n",
       "      <td>4.22</td>\n",
       "      <td>3.170</td>\n",
       "      <td>14.50</td>\n",
       "      <td>0</td>\n",
       "      <td>1</td>\n",
       "      <td>5</td>\n",
       "      <td>4</td>\n",
       "    </tr>\n",
       "    <tr>\n",
       "      <th>29</th>\n",
       "      <td>19.7</td>\n",
       "      <td>6</td>\n",
       "      <td>145.0</td>\n",
       "      <td>175</td>\n",
       "      <td>3.62</td>\n",
       "      <td>2.770</td>\n",
       "      <td>15.50</td>\n",
       "      <td>0</td>\n",
       "      <td>1</td>\n",
       "      <td>5</td>\n",
       "      <td>6</td>\n",
       "    </tr>\n",
       "    <tr>\n",
       "      <th>30</th>\n",
       "      <td>15.0</td>\n",
       "      <td>8</td>\n",
       "      <td>301.0</td>\n",
       "      <td>335</td>\n",
       "      <td>3.54</td>\n",
       "      <td>3.570</td>\n",
       "      <td>14.60</td>\n",
       "      <td>0</td>\n",
       "      <td>1</td>\n",
       "      <td>5</td>\n",
       "      <td>8</td>\n",
       "    </tr>\n",
       "    <tr>\n",
       "      <th>31</th>\n",
       "      <td>21.4</td>\n",
       "      <td>4</td>\n",
       "      <td>121.0</td>\n",
       "      <td>109</td>\n",
       "      <td>4.11</td>\n",
       "      <td>2.780</td>\n",
       "      <td>18.60</td>\n",
       "      <td>1</td>\n",
       "      <td>1</td>\n",
       "      <td>4</td>\n",
       "      <td>2</td>\n",
       "    </tr>\n",
       "  </tbody>\n",
       "</table>\n",
       "<p>32 rows × 11 columns</p>\n",
       "</div>"
      ],
      "text/plain": [
       "     mpg  cyl   disp   hp  drat     wt   qsec  vs  am  gear  carb\n",
       "0   21.0    6  160.0  110  3.90  2.620  16.46   0   1     4     4\n",
       "1   21.0    6  160.0  110  3.90  2.875  17.02   0   1     4     4\n",
       "2   22.8    4  108.0   93  3.85  2.320  18.61   1   1     4     1\n",
       "3   21.4    6  258.0  110  3.08  3.215  19.44   1   0     3     1\n",
       "4   18.7    8  360.0  175  3.15  3.440  17.02   0   0     3     2\n",
       "..   ...  ...    ...  ...   ...    ...    ...  ..  ..   ...   ...\n",
       "27  30.4    4   95.1  113  3.77  1.513  16.90   1   1     5     2\n",
       "28  15.8    8  351.0  264  4.22  3.170  14.50   0   1     5     4\n",
       "29  19.7    6  145.0  175  3.62  2.770  15.50   0   1     5     6\n",
       "30  15.0    8  301.0  335  3.54  3.570  14.60   0   1     5     8\n",
       "31  21.4    4  121.0  109  4.11  2.780  18.60   1   1     4     2\n",
       "\n",
       "[32 rows x 11 columns]"
      ]
     },
     "execution_count": 5,
     "metadata": {},
     "output_type": "execute_result"
    }
   ],
   "source": [
    "board.pin_read(\"mtcars\")"
   ]
  },
  {
   "cell_type": "markdown",
   "id": "c433c0a8",
   "metadata": {},
   "source": [
    "You don't need to supply the file type when reading data from a pin because pins automatically stores the file type in the metadata, the topic of the next section.\n",
    "\n",
    "Note that when the data lives elsewhere, pins takes care of downloading and caching so that it's only re-downloaded when needed.\n",
    "That said, most boards transmit pins over HTTP, and this is going to be slow and possibly unreliable for very large pins.\n",
    "As a general rule of thumb, we don't recommend using pins with files over 500 MB.\n",
    "If you find yourself routinely pinning data larger that this, you might need to reconsider your data engineering pipeline."
   ]
  },
  {
   "cell_type": "markdown",
   "id": "bb5fc632",
   "metadata": {},
   "source": [
    "## Metadata"
   ]
  },
  {
   "cell_type": "markdown",
   "id": "95aeb9d2",
   "metadata": {},
   "source": [
    "Every pin is accompanied by some metadata that you can access with pin_meta():"
   ]
  },
  {
   "cell_type": "code",
   "execution_count": 6,
   "id": "583e9762",
   "metadata": {
    "execution": {
     "iopub.execute_input": "2022-04-01T20:46:51.376320Z",
     "iopub.status.busy": "2022-04-01T20:46:51.375944Z",
     "iopub.status.idle": "2022-04-01T20:46:51.382683Z",
     "shell.execute_reply": "2022-04-01T20:46:51.382081Z"
    }
   },
   "outputs": [
    {
     "data": {
      "text/plain": [
       "Meta(title='A pinned 32 x 11 CSV', description=None, created='20220401T204651Z', pin_hash='7f10d4e9942bb928', file='mtcars', file_size=1420, type='csv', api_version=1, version=Version(created=datetime.datetime(2022, 4, 1, 20, 46, 51), hash='7f10d'), name='mtcars', user={})"
      ]
     },
     "execution_count": 6,
     "metadata": {},
     "output_type": "execute_result"
    }
   ],
   "source": [
    "board.pin_meta(\"mtcars\")"
   ]
  },
  {
   "cell_type": "markdown",
   "id": "b03cbb02",
   "metadata": {},
   "source": [
    "This shows you the metadata that’s generated by default. This includes:\n",
    "\n",
    "* `title`, a brief textual description of the dataset.\n",
    "* an optional `description`, where you can provide more details.\n",
    "* the date-time when the pin was `created`.\n",
    "* the `file_size`, in bytes, of the underlying files.\n",
    "* a unique `pin_hash` that you can supply to `pin_read()` to ensure that you’re reading exactly the data that you expect.\n",
    "\n",
    "When creating the pin, you can override the default description or provide additional metadata that is stored with the data:"
   ]
  },
  {
   "cell_type": "code",
   "execution_count": 7,
   "id": "4a3f2c97",
   "metadata": {
    "execution": {
     "iopub.execute_input": "2022-04-01T20:46:51.385609Z",
     "iopub.status.busy": "2022-04-01T20:46:51.385299Z",
     "iopub.status.idle": "2022-04-01T20:46:51.395297Z",
     "shell.execute_reply": "2022-04-01T20:46:51.394668Z"
    }
   },
   "outputs": [
    {
     "data": {
      "text/plain": [
       "Meta(title='A pinned 32 x 11 CSV', description='Data extracted from the 1974 Motor Trend US magazine, and comprises fuel consumption and 10 aspects of automobile design and performance for 32 automobiles (1973–74 models).', created='20220401T204651Z', pin_hash='7f10d4e9942bb928', file='mtcars2', file_size=1420, type='csv', api_version=1, version=Version(created=datetime.datetime(2022, 4, 1, 20, 46, 51, 388906), hash='7f10d4e9942bb928'), name='mtcars2', user={'source': 'Henderson and Velleman (1981), Building multiple regression models interactively. Biometrics, 37, 391–411.'})"
      ]
     },
     "execution_count": 7,
     "metadata": {},
     "output_type": "execute_result"
    }
   ],
   "source": [
    "board.pin_write(\n",
    "    mtcars,\n",
    "    name=\"mtcars2\",\n",
    "    type=\"csv\",\n",
    "    description = \"Data extracted from the 1974 Motor Trend US magazine, and comprises fuel consumption and 10 aspects of automobile design and performance for 32 automobiles (1973–74 models).\",\n",
    "    metadata = {\n",
    "        \"source\": \"Henderson and Velleman (1981), Building multiple regression models interactively. Biometrics, 37, 391–411.\"\n",
    "    }\n",
    ")"
   ]
  },
  {
   "cell_type": "code",
   "execution_count": 8,
   "id": "69cb66cb",
   "metadata": {
    "execution": {
     "iopub.execute_input": "2022-04-01T20:46:51.398303Z",
     "iopub.status.busy": "2022-04-01T20:46:51.397947Z",
     "iopub.status.idle": "2022-04-01T20:46:51.405757Z",
     "shell.execute_reply": "2022-04-01T20:46:51.405059Z"
    }
   },
   "outputs": [
    {
     "data": {
      "text/plain": [
       "Meta(title='A pinned 32 x 11 CSV', description=None, created='20220401T204651Z', pin_hash='7f10d4e9942bb928', file='mtcars', file_size=1420, type='csv', api_version=1, version=Version(created=datetime.datetime(2022, 4, 1, 20, 46, 51), hash='7f10d'), name='mtcars', user={})"
      ]
     },
     "execution_count": 8,
     "metadata": {},
     "output_type": "execute_result"
    }
   ],
   "source": [
    "board.pin_meta(\"mtcars\")"
   ]
  },
  {
   "cell_type": "markdown",
   "id": "22f945ac",
   "metadata": {},
   "source": [
    "While we’ll do our best to keep the automatically generated metadata consistent over time, I’d recommend manually capturing anything you really care about in metadata."
   ]
  },
  {
   "cell_type": "markdown",
   "id": "ab0d5b81",
   "metadata": {},
   "source": [
    "## 🚧 Versioning"
   ]
  },
  {
   "cell_type": "markdown",
   "id": "5d1ddd18",
   "metadata": {},
   "source": [
    "> ⚠️: versioning is not yet implemented. These docs are copied from R pins.\n",
    "\n",
    "In many situations it's useful to version pins, so that writing to an existing pin does not replace the existing data, but instead adds a new copy.\n",
    "There are two ways to turn versioning on:\n",
    "\n",
    "-   When you create a board you can turn versioning on for every pin in that board:\n",
    "\n",
    "    ```python\n",
    "    board2 = board_temp(versioned = TRUE)\n",
    "    ```\n",
    "\n",
    "-   When you write a pin, you can specifically request that versioning be turned on for that pin:\n",
    "\n",
    "    ```python\n",
    "    board2 = board_temp()\n",
    "    board2.pin_write(mtcars, versioned = TRUE)\n",
    "    ```\n",
    "\n",
    "Most boards have versioning on by default.\n",
    "The primary exception is `board_folder()` since that stores data on your computer, and there's no automated way to clean up the data your saving.\n",
    "\n",
    "Once you have turned versioning on, every `pin_write()` will create a new version:"
   ]
  },
  {
   "cell_type": "code",
   "execution_count": 9,
   "id": "a6c983b5",
   "metadata": {
    "execution": {
     "iopub.execute_input": "2022-04-01T20:46:51.408669Z",
     "iopub.status.busy": "2022-04-01T20:46:51.408348Z",
     "iopub.status.idle": "2022-04-01T20:46:51.474259Z",
     "shell.execute_reply": "2022-04-01T20:46:51.473613Z"
    }
   },
   "outputs": [
    {
     "data": {
      "text/html": [
       "<div>\n",
       "<style scoped>\n",
       "    .dataframe tbody tr th:only-of-type {\n",
       "        vertical-align: middle;\n",
       "    }\n",
       "\n",
       "    .dataframe tbody tr th {\n",
       "        vertical-align: top;\n",
       "    }\n",
       "\n",
       "    .dataframe thead th {\n",
       "        text-align: right;\n",
       "    }\n",
       "</style>\n",
       "<table border=\"1\" class=\"dataframe\">\n",
       "  <thead>\n",
       "    <tr style=\"text-align: right;\">\n",
       "      <th></th>\n",
       "      <th>created</th>\n",
       "      <th>hash</th>\n",
       "      <th>version</th>\n",
       "    </tr>\n",
       "  </thead>\n",
       "  <tbody>\n",
       "    <tr>\n",
       "      <th>0</th>\n",
       "      <td>2022-04-01 20:46:51</td>\n",
       "      <td>91544</td>\n",
       "      <td>20220401T204651Z-91544</td>\n",
       "    </tr>\n",
       "    <tr>\n",
       "      <th>1</th>\n",
       "      <td>2022-04-01 20:46:51</td>\n",
       "      <td>40b4b</td>\n",
       "      <td>20220401T204651Z-40b4b</td>\n",
       "    </tr>\n",
       "    <tr>\n",
       "      <th>2</th>\n",
       "      <td>2022-04-01 20:46:51</td>\n",
       "      <td>331fd</td>\n",
       "      <td>20220401T204651Z-331fd</td>\n",
       "    </tr>\n",
       "  </tbody>\n",
       "</table>\n",
       "</div>"
      ],
      "text/plain": [
       "              created   hash                 version\n",
       "0 2022-04-01 20:46:51  91544  20220401T204651Z-91544\n",
       "1 2022-04-01 20:46:51  40b4b  20220401T204651Z-40b4b\n",
       "2 2022-04-01 20:46:51  331fd  20220401T204651Z-331fd"
      ]
     },
     "execution_count": 9,
     "metadata": {},
     "output_type": "execute_result"
    }
   ],
   "source": [
    "# TODO: can save lists using joblib, but should warn about security\n",
    "\n",
    "board2 = board_temp(versioned = True)\n",
    "board2.pin_write([1,2,3,4,5], name = \"x\", type = \"joblib\", title=\"TODO\")\n",
    "board2.pin_write([1,2,3], name = \"x\", type = \"joblib\", title=\"TODO\")\n",
    "board2.pin_write([1,2], name = \"x\", type = \"joblib\", title=\"TODO\")\n",
    "board2.pin_versions(\"x\")"
   ]
  },
  {
   "cell_type": "markdown",
   "id": "dec65d07",
   "metadata": {},
   "source": [
    "By default, `pin_read()` will return the most recent version:"
   ]
  },
  {
   "cell_type": "code",
   "execution_count": 10,
   "id": "aa2141e9",
   "metadata": {
    "execution": {
     "iopub.execute_input": "2022-04-01T20:46:51.477544Z",
     "iopub.status.busy": "2022-04-01T20:46:51.477194Z",
     "iopub.status.idle": "2022-04-01T20:46:51.484942Z",
     "shell.execute_reply": "2022-04-01T20:46:51.484340Z"
    }
   },
   "outputs": [
    {
     "data": {
      "text/plain": [
       "[1, 2, 3]"
      ]
     },
     "execution_count": 10,
     "metadata": {},
     "output_type": "execute_result"
    }
   ],
   "source": [
    "board2.pin_read(\"x\")"
   ]
  },
  {
   "cell_type": "markdown",
   "id": "07af4dbc",
   "metadata": {},
   "source": [
    "But you can request an older version by supplying the `version` argument:"
   ]
  },
  {
   "cell_type": "code",
   "execution_count": 11,
   "id": "983208c9",
   "metadata": {
    "execution": {
     "iopub.execute_input": "2022-04-01T20:46:51.487798Z",
     "iopub.status.busy": "2022-04-01T20:46:51.487478Z",
     "iopub.status.idle": "2022-04-01T20:46:51.497889Z",
     "shell.execute_reply": "2022-04-01T20:46:51.497340Z"
    }
   },
   "outputs": [
    {
     "data": {
      "text/plain": [
       "[1, 2]"
      ]
     },
     "execution_count": 11,
     "metadata": {},
     "output_type": "execute_result"
    }
   ],
   "source": [
    "version = board2.pin_versions(\"x\").version[1]\n",
    "board2.pin_read(\"x\", version = version)"
   ]
  },
  {
   "cell_type": "markdown",
   "id": "ca23dcb1",
   "metadata": {},
   "source": [
    "## 🚧 Reading and writing files"
   ]
  },
  {
   "cell_type": "markdown",
   "id": "dd05cf76",
   "metadata": {},
   "source": [
    "So far we've focussed on `pin_write()` and `pin_read()` which work with R objects.\n",
    "pins also provides the lower-level `pin_upload()` and `pin_download()` which work with files on disk.\n",
    "You can use them to share types of data that are otherwise unsupported by pins.\n",
    "\n",
    "`pin_upload()` works like `pin_write()` but instead of an R object you give it a vector of paths.\n",
    "I'll start by creating a few files in the temp directory:\n"
   ]
  },
  {
   "cell_type": "code",
   "execution_count": 12,
   "id": "bf3914f4",
   "metadata": {
    "execution": {
     "iopub.execute_input": "2022-04-01T20:46:51.500947Z",
     "iopub.status.busy": "2022-04-01T20:46:51.500597Z",
     "iopub.status.idle": "2022-04-01T20:46:51.504310Z",
     "shell.execute_reply": "2022-04-01T20:46:51.503404Z"
    }
   },
   "outputs": [],
   "source": [
    "# paths = file.path(tempdir(), c(\"mtcars.csv\", \"alphabet.txt\"))\n",
    "# write.csv(mtcars, paths[[1]])\n",
    "# writeLines(letters, paths[[2]])"
   ]
  },
  {
   "cell_type": "markdown",
   "id": "2df6319b",
   "metadata": {},
   "source": [
    "Now I can upload those to the board:"
   ]
  },
  {
   "cell_type": "code",
   "execution_count": 13,
   "id": "183ebf06",
   "metadata": {
    "execution": {
     "iopub.execute_input": "2022-04-01T20:46:51.507339Z",
     "iopub.status.busy": "2022-04-01T20:46:51.507018Z",
     "iopub.status.idle": "2022-04-01T20:46:51.509980Z",
     "shell.execute_reply": "2022-04-01T20:46:51.509465Z"
    }
   },
   "outputs": [],
   "source": [
    "# board.pin_upload(paths, \"example\")"
   ]
  },
  {
   "cell_type": "markdown",
   "id": "dce358e3",
   "metadata": {},
   "source": [
    "`pin_download()` returns a vector of paths:"
   ]
  },
  {
   "cell_type": "code",
   "execution_count": 14,
   "id": "a1d0d764",
   "metadata": {
    "execution": {
     "iopub.execute_input": "2022-04-01T20:46:51.512768Z",
     "iopub.status.busy": "2022-04-01T20:46:51.512454Z",
     "iopub.status.idle": "2022-04-01T20:46:51.515561Z",
     "shell.execute_reply": "2022-04-01T20:46:51.514796Z"
    },
    "lines_to_next_cell": 2
   },
   "outputs": [],
   "source": [
    "# board.pin_download(\"example\")"
   ]
  },
  {
   "cell_type": "markdown",
   "id": "72ffb577",
   "metadata": {},
   "source": [
    "You should treat these paths as internal implementation details --- never modify them and never save them for use outside of pins.\n",
    "\n",
    "Note that you can't `pin_read()` something you pinned with `pin_upload()`:\n"
   ]
  },
  {
   "cell_type": "code",
   "execution_count": 15,
   "id": "7ca53ef9",
   "metadata": {
    "execution": {
     "iopub.execute_input": "2022-04-01T20:46:51.518378Z",
     "iopub.status.busy": "2022-04-01T20:46:51.517962Z",
     "iopub.status.idle": "2022-04-01T20:46:51.520971Z",
     "shell.execute_reply": "2022-04-01T20:46:51.520257Z"
    }
   },
   "outputs": [],
   "source": [
    "# board.pin_read(\"example\")"
   ]
  },
  {
   "cell_type": "markdown",
   "id": "7f178b9c",
   "metadata": {},
   "source": [
    "But you can `pin_download()` something that you've pinned with `pin_write()`:"
   ]
  },
  {
   "cell_type": "code",
   "execution_count": 16,
   "id": "6f84b1c8",
   "metadata": {
    "execution": {
     "iopub.execute_input": "2022-04-01T20:46:51.523845Z",
     "iopub.status.busy": "2022-04-01T20:46:51.523544Z",
     "iopub.status.idle": "2022-04-01T20:46:51.526335Z",
     "shell.execute_reply": "2022-04-01T20:46:51.525844Z"
    }
   },
   "outputs": [],
   "source": [
    "# board.pin_download(\"mtcars\")"
   ]
  },
  {
   "cell_type": "markdown",
   "id": "31909b4e",
   "metadata": {},
   "source": [
    "## Caching"
   ]
  },
  {
   "cell_type": "markdown",
   "id": "0515c56d",
   "metadata": {},
   "source": [
    "The primary purpose of pins is to make it easy to share data.\n",
    "But pins is also designed to help you spend as little time as possible downloading data.\n",
    "`pin_read()` and `pin_download()` automatically cache remote pins: they maintain a local copy of the data (so it's fast) but always check that it's up-to-date (so your analysis doesn't use stale data).\n",
    "\n",
    "Wouldn't it be nice if you could take advantage of this feature for any dataset on the internet?\n",
    "That's the idea behind `board_url()` --- you can assemble your own board from datasets, wherever they live on the internet.\n",
    "For example, this code creates a board containing a single pin, `penguins`, that refers to some fun data I found on GitHub:"
   ]
  },
  {
   "cell_type": "code",
   "execution_count": 17,
   "id": "bf035a35",
   "metadata": {
    "execution": {
     "iopub.execute_input": "2022-04-01T20:46:51.529173Z",
     "iopub.status.busy": "2022-04-01T20:46:51.528868Z",
     "iopub.status.idle": "2022-04-01T20:46:51.706732Z",
     "shell.execute_reply": "2022-04-01T20:46:51.706098Z"
    }
   },
   "outputs": [],
   "source": [
    "my_data = board_urls(\"\", {\n",
    "  \"penguins\": \"https://raw.githubusercontent.com/allisonhorst/palmerpenguins/master/inst/extdata/penguins_raw.csv\"\n",
    "})"
   ]
  },
  {
   "cell_type": "markdown",
   "id": "a0700493",
   "metadata": {},
   "source": [
    "You can read this data by combining `pin_download()` with `read.csv()`[^1]:\n",
    "\n",
    "[^1]: Here I'm using `read.csv()` to the reduce the dependencies of the pins package.\n",
    "    For real code I'd recommend using `data.table::fread()` or `readr::read_csv().`"
   ]
  },
  {
   "cell_type": "code",
   "execution_count": 18,
   "id": "d0ffee33",
   "metadata": {
    "execution": {
     "iopub.execute_input": "2022-04-01T20:46:51.710345Z",
     "iopub.status.busy": "2022-04-01T20:46:51.709958Z",
     "iopub.status.idle": "2022-04-01T20:46:51.809220Z",
     "shell.execute_reply": "2022-04-01T20:46:51.808336Z"
    }
   },
   "outputs": [
    {
     "data": {
      "text/plain": [
       "['/home/runner/.cache/pins-py/http_e6ac0d2da33fad7e72df6b900933a691b89ed7d54ec0e4a36fe45c32d7e2f67e/v/penguins_raw.csv']"
      ]
     },
     "execution_count": 18,
     "metadata": {},
     "output_type": "execute_result"
    }
   ],
   "source": [
    "fname = my_data.pin_download(\"penguins\")\n",
    "\n",
    "fname\n"
   ]
  },
  {
   "cell_type": "code",
   "execution_count": 19,
   "id": "a00f27e4",
   "metadata": {
    "execution": {
     "iopub.execute_input": "2022-04-01T20:46:51.812861Z",
     "iopub.status.busy": "2022-04-01T20:46:51.812487Z",
     "iopub.status.idle": "2022-04-01T20:46:51.832653Z",
     "shell.execute_reply": "2022-04-01T20:46:51.832021Z"
    }
   },
   "outputs": [
    {
     "data": {
      "text/html": [
       "<div>\n",
       "<style scoped>\n",
       "    .dataframe tbody tr th:only-of-type {\n",
       "        vertical-align: middle;\n",
       "    }\n",
       "\n",
       "    .dataframe tbody tr th {\n",
       "        vertical-align: top;\n",
       "    }\n",
       "\n",
       "    .dataframe thead th {\n",
       "        text-align: right;\n",
       "    }\n",
       "</style>\n",
       "<table border=\"1\" class=\"dataframe\">\n",
       "  <thead>\n",
       "    <tr style=\"text-align: right;\">\n",
       "      <th></th>\n",
       "      <th>studyName</th>\n",
       "      <th>Sample Number</th>\n",
       "      <th>Species</th>\n",
       "      <th>Region</th>\n",
       "      <th>Island</th>\n",
       "      <th>Stage</th>\n",
       "      <th>Individual ID</th>\n",
       "      <th>Clutch Completion</th>\n",
       "      <th>Date Egg</th>\n",
       "      <th>Culmen Length (mm)</th>\n",
       "      <th>Culmen Depth (mm)</th>\n",
       "      <th>Flipper Length (mm)</th>\n",
       "      <th>Body Mass (g)</th>\n",
       "      <th>Sex</th>\n",
       "      <th>Delta 15 N (o/oo)</th>\n",
       "      <th>Delta 13 C (o/oo)</th>\n",
       "      <th>Comments</th>\n",
       "    </tr>\n",
       "  </thead>\n",
       "  <tbody>\n",
       "    <tr>\n",
       "      <th>0</th>\n",
       "      <td>PAL0708</td>\n",
       "      <td>1</td>\n",
       "      <td>Adelie Penguin (Pygoscelis adeliae)</td>\n",
       "      <td>Anvers</td>\n",
       "      <td>Torgersen</td>\n",
       "      <td>Adult, 1 Egg Stage</td>\n",
       "      <td>N1A1</td>\n",
       "      <td>Yes</td>\n",
       "      <td>2007-11-11</td>\n",
       "      <td>39.1</td>\n",
       "      <td>18.7</td>\n",
       "      <td>181.0</td>\n",
       "      <td>3750.0</td>\n",
       "      <td>MALE</td>\n",
       "      <td>NaN</td>\n",
       "      <td>NaN</td>\n",
       "      <td>Not enough blood for isotopes.</td>\n",
       "    </tr>\n",
       "    <tr>\n",
       "      <th>1</th>\n",
       "      <td>PAL0708</td>\n",
       "      <td>2</td>\n",
       "      <td>Adelie Penguin (Pygoscelis adeliae)</td>\n",
       "      <td>Anvers</td>\n",
       "      <td>Torgersen</td>\n",
       "      <td>Adult, 1 Egg Stage</td>\n",
       "      <td>N1A2</td>\n",
       "      <td>Yes</td>\n",
       "      <td>2007-11-11</td>\n",
       "      <td>39.5</td>\n",
       "      <td>17.4</td>\n",
       "      <td>186.0</td>\n",
       "      <td>3800.0</td>\n",
       "      <td>FEMALE</td>\n",
       "      <td>8.94956</td>\n",
       "      <td>-24.69454</td>\n",
       "      <td>NaN</td>\n",
       "    </tr>\n",
       "    <tr>\n",
       "      <th>2</th>\n",
       "      <td>PAL0708</td>\n",
       "      <td>3</td>\n",
       "      <td>Adelie Penguin (Pygoscelis adeliae)</td>\n",
       "      <td>Anvers</td>\n",
       "      <td>Torgersen</td>\n",
       "      <td>Adult, 1 Egg Stage</td>\n",
       "      <td>N2A1</td>\n",
       "      <td>Yes</td>\n",
       "      <td>2007-11-16</td>\n",
       "      <td>40.3</td>\n",
       "      <td>18.0</td>\n",
       "      <td>195.0</td>\n",
       "      <td>3250.0</td>\n",
       "      <td>FEMALE</td>\n",
       "      <td>8.36821</td>\n",
       "      <td>-25.33302</td>\n",
       "      <td>NaN</td>\n",
       "    </tr>\n",
       "    <tr>\n",
       "      <th>3</th>\n",
       "      <td>PAL0708</td>\n",
       "      <td>4</td>\n",
       "      <td>Adelie Penguin (Pygoscelis adeliae)</td>\n",
       "      <td>Anvers</td>\n",
       "      <td>Torgersen</td>\n",
       "      <td>Adult, 1 Egg Stage</td>\n",
       "      <td>N2A2</td>\n",
       "      <td>Yes</td>\n",
       "      <td>2007-11-16</td>\n",
       "      <td>NaN</td>\n",
       "      <td>NaN</td>\n",
       "      <td>NaN</td>\n",
       "      <td>NaN</td>\n",
       "      <td>NaN</td>\n",
       "      <td>NaN</td>\n",
       "      <td>NaN</td>\n",
       "      <td>Adult not sampled.</td>\n",
       "    </tr>\n",
       "    <tr>\n",
       "      <th>4</th>\n",
       "      <td>PAL0708</td>\n",
       "      <td>5</td>\n",
       "      <td>Adelie Penguin (Pygoscelis adeliae)</td>\n",
       "      <td>Anvers</td>\n",
       "      <td>Torgersen</td>\n",
       "      <td>Adult, 1 Egg Stage</td>\n",
       "      <td>N3A1</td>\n",
       "      <td>Yes</td>\n",
       "      <td>2007-11-16</td>\n",
       "      <td>36.7</td>\n",
       "      <td>19.3</td>\n",
       "      <td>193.0</td>\n",
       "      <td>3450.0</td>\n",
       "      <td>FEMALE</td>\n",
       "      <td>8.76651</td>\n",
       "      <td>-25.32426</td>\n",
       "      <td>NaN</td>\n",
       "    </tr>\n",
       "  </tbody>\n",
       "</table>\n",
       "</div>"
      ],
      "text/plain": [
       "  studyName  Sample Number                              Species  Region  \\\n",
       "0   PAL0708              1  Adelie Penguin (Pygoscelis adeliae)  Anvers   \n",
       "1   PAL0708              2  Adelie Penguin (Pygoscelis adeliae)  Anvers   \n",
       "2   PAL0708              3  Adelie Penguin (Pygoscelis adeliae)  Anvers   \n",
       "3   PAL0708              4  Adelie Penguin (Pygoscelis adeliae)  Anvers   \n",
       "4   PAL0708              5  Adelie Penguin (Pygoscelis adeliae)  Anvers   \n",
       "\n",
       "      Island               Stage Individual ID Clutch Completion    Date Egg  \\\n",
       "0  Torgersen  Adult, 1 Egg Stage          N1A1               Yes  2007-11-11   \n",
       "1  Torgersen  Adult, 1 Egg Stage          N1A2               Yes  2007-11-11   \n",
       "2  Torgersen  Adult, 1 Egg Stage          N2A1               Yes  2007-11-16   \n",
       "3  Torgersen  Adult, 1 Egg Stage          N2A2               Yes  2007-11-16   \n",
       "4  Torgersen  Adult, 1 Egg Stage          N3A1               Yes  2007-11-16   \n",
       "\n",
       "   Culmen Length (mm)  Culmen Depth (mm)  Flipper Length (mm)  Body Mass (g)  \\\n",
       "0                39.1               18.7                181.0         3750.0   \n",
       "1                39.5               17.4                186.0         3800.0   \n",
       "2                40.3               18.0                195.0         3250.0   \n",
       "3                 NaN                NaN                  NaN            NaN   \n",
       "4                36.7               19.3                193.0         3450.0   \n",
       "\n",
       "      Sex  Delta 15 N (o/oo)  Delta 13 C (o/oo)  \\\n",
       "0    MALE                NaN                NaN   \n",
       "1  FEMALE            8.94956          -24.69454   \n",
       "2  FEMALE            8.36821          -25.33302   \n",
       "3     NaN                NaN                NaN   \n",
       "4  FEMALE            8.76651          -25.32426   \n",
       "\n",
       "                         Comments  \n",
       "0  Not enough blood for isotopes.  \n",
       "1                             NaN  \n",
       "2                             NaN  \n",
       "3              Adult not sampled.  \n",
       "4                             NaN  "
      ]
     },
     "execution_count": 19,
     "metadata": {},
     "output_type": "execute_result"
    }
   ],
   "source": [
    "import pandas as pd\n",
    "\n",
    "pd.read_csv(fname[0]).head()"
   ]
  },
  {
   "cell_type": "code",
   "execution_count": 20,
   "id": "57217453",
   "metadata": {
    "execution": {
     "iopub.execute_input": "2022-04-01T20:46:51.836028Z",
     "iopub.status.busy": "2022-04-01T20:46:51.835696Z",
     "iopub.status.idle": "2022-04-01T20:46:51.841222Z",
     "shell.execute_reply": "2022-04-01T20:46:51.840642Z"
    }
   },
   "outputs": [
    {
     "data": {
      "text/plain": [
       "['/home/runner/.cache/pins-py/http_e6ac0d2da33fad7e72df6b900933a691b89ed7d54ec0e4a36fe45c32d7e2f67e/v/penguins_raw.csv']"
      ]
     },
     "execution_count": 20,
     "metadata": {},
     "output_type": "execute_result"
    }
   ],
   "source": [
    "my_data.pin_download(\"penguins\")"
   ]
  }
 ],
 "metadata": {
  "jupytext": {
   "text_representation": {
    "extension": ".Rmd",
    "format_name": "rmarkdown",
    "format_version": "1.2",
    "jupytext_version": "1.13.6"
   }
  },
  "kernelspec": {
   "display_name": "venv-pins-python",
   "language": "python",
   "name": "venv-pins-python"
  },
  "language_info": {
   "codemirror_mode": {
    "name": "ipython",
    "version": 3
   },
   "file_extension": ".py",
   "mimetype": "text/x-python",
   "name": "python",
   "nbconvert_exporter": "python",
   "pygments_lexer": "ipython3",
   "version": "3.8.12"
  }
 },
 "nbformat": 4,
 "nbformat_minor": 5
}
