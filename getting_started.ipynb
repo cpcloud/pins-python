{
 "cells": [
  {
   "cell_type": "markdown",
   "id": "61951b1d",
   "metadata": {},
   "source": [
    "Getting Started\n",
    "===============\n",
    "\n",
    "The pins package helps you publish data sets, models, and other R objects, making it easy to share them across projects and with your colleagues.\n",
    "You can pin objects to a variety of \"boards\", including local folders (to share on a networked drive or with dropbox), RStudio connect, Amazon S3, and more.\n",
    "This vignette will introduce you to the basics of pins."
   ]
  },
  {
   "cell_type": "code",
   "execution_count": 1,
   "id": "194fd855",
   "metadata": {
    "execution": {
     "iopub.execute_input": "2022-03-15T17:26:41.560306Z",
     "iopub.status.busy": "2022-03-15T17:26:41.560102Z",
     "iopub.status.idle": "2022-03-15T17:26:41.595238Z",
     "shell.execute_reply": "2022-03-15T17:26:41.594692Z"
    }
   },
   "outputs": [],
   "source": [
    "import pins"
   ]
  },
  {
   "cell_type": "markdown",
   "id": "7994b3f5",
   "metadata": {},
   "source": [
    "## Getting started\n",
    "\n",
    "Every pin lives in a pin *board*, so you must start by creating a pin board.\n",
    "In this vignette I'll use a temporary board which is automatically deleted when your R session is over:"
   ]
  },
  {
   "cell_type": "code",
   "execution_count": 2,
   "id": "85458df0",
   "metadata": {
    "execution": {
     "iopub.execute_input": "2022-03-15T17:26:41.598651Z",
     "iopub.status.busy": "2022-03-15T17:26:41.598365Z",
     "iopub.status.idle": "2022-03-15T17:26:41.624731Z",
     "shell.execute_reply": "2022-03-15T17:26:41.624137Z"
    }
   },
   "outputs": [],
   "source": [
    "# TODO: simple board constructors\n",
    "import fsspec\n",
    "import tempfile\n",
    "\n",
    "fs = fsspec.filesystem(\"file\")\n",
    "tmp_dir = tempfile.TemporaryDirectory()\n",
    "\n",
    "board = pins.BaseBoard(tmp_dir.name, fs)"
   ]
  },
  {
   "cell_type": "markdown",
   "id": "7b6923ee",
   "metadata": {},
   "source": [
    "In real-life, you'd pick a board depending on how you want to share the data.\n",
    "Here are a few options:"
   ]
  },
  {
   "cell_type": "code",
   "execution_count": 3,
   "id": "3a13931e",
   "metadata": {
    "execution": {
     "iopub.execute_input": "2022-03-15T17:26:41.628108Z",
     "iopub.status.busy": "2022-03-15T17:26:41.627817Z",
     "iopub.status.idle": "2022-03-15T17:26:41.630485Z",
     "shell.execute_reply": "2022-03-15T17:26:41.629974Z"
    }
   },
   "outputs": [],
   "source": [
    "# TODO\n",
    "# board <- board_local() # share data across R sessions on the same computer\n",
    "# board <- board_folder(\"~/Dropbox\") # share data with others using dropbox\n",
    "# board <- board_folder(\"Z:\\\\my-team\\pins\") # share data using a shared network drive\n",
    "# board <- board_rsconnect() # share data with RStudio Connect"
   ]
  },
  {
   "cell_type": "markdown",
   "id": "458ef1aa",
   "metadata": {},
   "source": [
    "## Reading and writing data\n",
    "\n",
    "Once you have a pin board, you can write data to it with `pin_write()`:"
   ]
  },
  {
   "cell_type": "code",
   "execution_count": 4,
   "id": "cec0726a",
   "metadata": {
    "execution": {
     "iopub.execute_input": "2022-03-15T17:26:41.633440Z",
     "iopub.status.busy": "2022-03-15T17:26:41.633123Z",
     "iopub.status.idle": "2022-03-15T17:26:42.010062Z",
     "shell.execute_reply": "2022-03-15T17:26:42.009469Z"
    }
   },
   "outputs": [
    {
     "data": {
      "text/plain": [
       "Meta(title='A pinned 32 x 11 CSV', description=None, created='20220315T172641Z', pin_hash='7f10d4e9942bb928', file='mtcars', file_size=1420, type='csv', api_version=1, version=Version(created=datetime.datetime(2022, 3, 15, 17, 26, 41, 998102), hash='7f10d4e9942bb928'), name='mtcars', user={})"
      ]
     },
     "execution_count": 4,
     "metadata": {},
     "output_type": "execute_result"
    }
   ],
   "source": [
    "from siuba.data import mtcars\n",
    "board.pin_write(mtcars, \"mtcars\", type=\"csv\")"
   ]
  },
  {
   "cell_type": "markdown",
   "id": "c020d228",
   "metadata": {},
   "source": [
    "The first argument is the object to save (usually a data frame, but it can be any R object), and the second argument gives the \"name\" of the pin.\n",
    "The name is basically equivalent to a file name: you'll use it when you later want to read the data from the pin.\n",
    "The only rule for a pin name is that it can't contain slashes."
   ]
  }
 ],
 "metadata": {
  "jupytext": {
   "cell_metadata_filter": "-all",
   "main_language": "python",
   "notebook_metadata_filter": "-all",
   "text_representation": {
    "extension": ".Rmd",
    "format_name": "rmarkdown"
   }
  },
  "language_info": {
   "codemirror_mode": {
    "name": "ipython",
    "version": 3
   },
   "file_extension": ".py",
   "mimetype": "text/x-python",
   "name": "python",
   "nbconvert_exporter": "python",
   "pygments_lexer": "ipython3",
   "version": "3.8.12"
  }
 },
 "nbformat": 4,
 "nbformat_minor": 5
}
