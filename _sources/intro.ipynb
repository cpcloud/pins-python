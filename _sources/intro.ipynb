{
 "cells": [
  {
   "cell_type": "markdown",
   "id": "5ee4ba5f",
   "metadata": {},
   "source": [
    "# Welcome\n",
    "\n",
    "```{image} logo.png\n",
    ":align: right\n",
    ":height: 139px\n",
    ":alt: pins, a library for organizing and sharing data.\n",
    "```\n",
    "\n",
    "The pins package publishes data, models, and other Python objects, making it easy to share\n",
    "You can pin objects to a variety of pin *boards*, including folders (to share on a networked drive or with services like DropBox), RStudio Connect, Amazon S3, Google Cloud Storage, and Azure Datalake.\n",
    "Pins can be automatically versioned, making it straightforward to track changes, re-run analyses on historical data, and undo mistakes.\n",
    "\n",
    "## Installation\n",
    "\n",
    "To install the released version from PyPI:\n",
    "\n",
    "```shell\n",
    "python -m pip install pins\n",
    "```\n",
    "\n",
    "## Usage\n",
    "\n",
    "To use the pins package, you must first create a pin board.\n",
    "A good place to start is `board_folder()`, which stores pins in a directory you specify.\n",
    "Here I'll use a special version of `board_folder()` called `board_temp()` which creates a temporary board that's automatically deleted when your Python session ends.\n",
    "This is great for examples, but obviously you shouldn't use it for real work!"
   ]
  },
  {
   "cell_type": "code",
   "execution_count": 1,
   "id": "e81a08dd",
   "metadata": {},
   "outputs": [
    {
     "data": {
      "text/plain": [
       "<pins.boards.BaseBoard at 0x7ff220418c10>"
      ]
     },
     "execution_count": 1,
     "metadata": {},
     "output_type": "execute_result"
    }
   ],
   "source": [
    "from pins import board_temp\n",
    "from pins.data import mtcars\n",
    "\n",
    "board = board_temp()\n",
    "board"
   ]
  },
  {
   "cell_type": "markdown",
   "id": "7c0cc0b4",
   "metadata": {},
   "source": [
    "You can \"pin\" (save) data to a board with the `.pin_write()` method.\n",
    "It requires three arguments: an object, a name, and a pin type:"
   ]
  },
  {
   "cell_type": "code",
   "execution_count": 2,
   "id": "157abbf0",
   "metadata": {},
   "outputs": [
    {
     "name": "stderr",
     "output_type": "stream",
     "text": [
      "Writing pin:\n",
      "Name: 'mtcars'\n",
      "Version: 20221107T211724Z-120a5\n"
     ]
    },
    {
     "data": {
      "text/plain": [
       "Meta(title='mtcars: a pinned 5 x 11 DataFrame', description=None, created='20221107T211724Z', pin_hash='120a54f7e0818041', file='mtcars.csv', file_size=249, type='csv', api_version=1, version=Version(created=datetime.datetime(2022, 11, 7, 21, 17, 24, 866187), hash='120a54f7e0818041'), name='mtcars', user={}, local={})"
      ]
     },
     "execution_count": 2,
     "metadata": {},
     "output_type": "execute_result"
    }
   ],
   "source": [
    "board.pin_write(mtcars.head(), \"mtcars\", type=\"csv\")"
   ]
  },
  {
   "cell_type": "markdown",
   "id": "0aac5a04",
   "metadata": {},
   "source": [
    "Above, we saved the data as a CSV, but depending on\n",
    "what you’re saving and who else you want to read it, you might use the\n",
    "`type` argument to instead save it as a `joblib` or `arrow` file (NOTE: arrow is not yet supported).\n",
    "\n",
    "You can later retrieve the pinned data with `.pin_read()`:"
   ]
  },
  {
   "cell_type": "code",
   "execution_count": 3,
   "id": "ab92a5a4",
   "metadata": {},
   "outputs": [
    {
     "data": {
      "text/html": [
       "<div>\n",
       "<style scoped>\n",
       "    .dataframe tbody tr th:only-of-type {\n",
       "        vertical-align: middle;\n",
       "    }\n",
       "\n",
       "    .dataframe tbody tr th {\n",
       "        vertical-align: top;\n",
       "    }\n",
       "\n",
       "    .dataframe thead th {\n",
       "        text-align: right;\n",
       "    }\n",
       "</style>\n",
       "<table border=\"1\" class=\"dataframe\">\n",
       "  <thead>\n",
       "    <tr style=\"text-align: right;\">\n",
       "      <th></th>\n",
       "      <th>mpg</th>\n",
       "      <th>cyl</th>\n",
       "      <th>disp</th>\n",
       "      <th>hp</th>\n",
       "      <th>drat</th>\n",
       "      <th>wt</th>\n",
       "      <th>qsec</th>\n",
       "      <th>vs</th>\n",
       "      <th>am</th>\n",
       "      <th>gear</th>\n",
       "      <th>carb</th>\n",
       "    </tr>\n",
       "  </thead>\n",
       "  <tbody>\n",
       "    <tr>\n",
       "      <th>0</th>\n",
       "      <td>21.0</td>\n",
       "      <td>6</td>\n",
       "      <td>160.0</td>\n",
       "      <td>110</td>\n",
       "      <td>3.90</td>\n",
       "      <td>2.620</td>\n",
       "      <td>16.46</td>\n",
       "      <td>0</td>\n",
       "      <td>1</td>\n",
       "      <td>4</td>\n",
       "      <td>4</td>\n",
       "    </tr>\n",
       "    <tr>\n",
       "      <th>1</th>\n",
       "      <td>21.0</td>\n",
       "      <td>6</td>\n",
       "      <td>160.0</td>\n",
       "      <td>110</td>\n",
       "      <td>3.90</td>\n",
       "      <td>2.875</td>\n",
       "      <td>17.02</td>\n",
       "      <td>0</td>\n",
       "      <td>1</td>\n",
       "      <td>4</td>\n",
       "      <td>4</td>\n",
       "    </tr>\n",
       "    <tr>\n",
       "      <th>2</th>\n",
       "      <td>22.8</td>\n",
       "      <td>4</td>\n",
       "      <td>108.0</td>\n",
       "      <td>93</td>\n",
       "      <td>3.85</td>\n",
       "      <td>2.320</td>\n",
       "      <td>18.61</td>\n",
       "      <td>1</td>\n",
       "      <td>1</td>\n",
       "      <td>4</td>\n",
       "      <td>1</td>\n",
       "    </tr>\n",
       "    <tr>\n",
       "      <th>3</th>\n",
       "      <td>21.4</td>\n",
       "      <td>6</td>\n",
       "      <td>258.0</td>\n",
       "      <td>110</td>\n",
       "      <td>3.08</td>\n",
       "      <td>3.215</td>\n",
       "      <td>19.44</td>\n",
       "      <td>1</td>\n",
       "      <td>0</td>\n",
       "      <td>3</td>\n",
       "      <td>1</td>\n",
       "    </tr>\n",
       "    <tr>\n",
       "      <th>4</th>\n",
       "      <td>18.7</td>\n",
       "      <td>8</td>\n",
       "      <td>360.0</td>\n",
       "      <td>175</td>\n",
       "      <td>3.15</td>\n",
       "      <td>3.440</td>\n",
       "      <td>17.02</td>\n",
       "      <td>0</td>\n",
       "      <td>0</td>\n",
       "      <td>3</td>\n",
       "      <td>2</td>\n",
       "    </tr>\n",
       "  </tbody>\n",
       "</table>\n",
       "</div>"
      ],
      "text/plain": [
       "    mpg  cyl   disp   hp  drat     wt   qsec  vs  am  gear  carb\n",
       "0  21.0    6  160.0  110  3.90  2.620  16.46   0   1     4     4\n",
       "1  21.0    6  160.0  110  3.90  2.875  17.02   0   1     4     4\n",
       "2  22.8    4  108.0   93  3.85  2.320  18.61   1   1     4     1\n",
       "3  21.4    6  258.0  110  3.08  3.215  19.44   1   0     3     1\n",
       "4  18.7    8  360.0  175  3.15  3.440  17.02   0   0     3     2"
      ]
     },
     "execution_count": 3,
     "metadata": {},
     "output_type": "execute_result"
    }
   ],
   "source": [
    "board.pin_read(\"mtcars\")"
   ]
  },
  {
   "cell_type": "markdown",
   "id": "07cb20ef",
   "metadata": {},
   "source": [
    "A board on your computer is good place to start, but the real power of pins comes when you use a board that's shared with multiple people.\n",
    "To get started, you can use `board_folder()` with a directory on a shared drive or in DropBox, or if you use [RStudio Connect](https://www.rstudio.com/products/connect/) you can use `board_rsconnect()`:\n",
    "\n",
    "🚧 TODO: add informational messages shown in display below"
   ]
  },
  {
   "cell_type": "markdown",
   "id": "ec6a186d",
   "metadata": {},
   "source": [
    "```python\n",
    "from pins import board_rsconnect\n",
    "\n",
    "board = board_rsconnect()\n",
    "#> Connecting to RSC 1.9.0.1 at <https://connect.rstudioservices.com>\n",
    "\n",
    "board.pin_write(tidy_sales_data, \"hadley/sales-summary\", type = \"csv\")\n",
    "#> Writing to pin 'hadley/sales-summary'\n",
    "```"
   ]
  },
  {
   "cell_type": "markdown",
   "id": "5f633707",
   "metadata": {},
   "source": [
    "Then, someone else (or an automated report) can read and use your pin:"
   ]
  },
  {
   "cell_type": "markdown",
   "id": "9fb1c481",
   "metadata": {},
   "source": [
    "```python\n",
    "board = board_rsconnect()\n",
    "board.pin_read(\"hadley/sales-summary\")\n",
    "```"
   ]
  },
  {
   "cell_type": "markdown",
   "id": "0cc5e0de",
   "metadata": {},
   "source": [
    "You can easily control who gets to access the data using the RStudio Connect permissions pane.\n",
    "\n",
    "The pins package also includes boards that allow you to share data on services like\n",
    "Amazon's S3 (`board_s3()`), Google Cloud Storage (`board_gcs()`), and Azure Datalake (`board_azure()`).\n",
    "Learn more in [getting started](getting_started.Rmd)."
   ]
  }
 ],
 "metadata": {
  "jupytext": {
   "formats": "md:myst",
   "text_representation": {
    "extension": ".md",
    "format_name": "myst",
    "format_version": 0.13,
    "jupytext_version": "1.13.6"
   }
  },
  "kernelspec": {
   "display_name": "venv-pins-python",
   "language": "python",
   "name": "venv-pins-python"
  },
  "language_info": {
   "codemirror_mode": {
    "name": "ipython",
    "version": 3
   },
   "file_extension": ".py",
   "mimetype": "text/x-python",
   "name": "python",
   "nbconvert_exporter": "python",
   "pygments_lexer": "ipython3",
   "version": "3.8.14"
  },
  "source_map": [
   13,
   42,
   48,
   53,
   55,
   63,
   65,
   72,
   84,
   88,
   95
  ]
 },
 "nbformat": 4,
 "nbformat_minor": 5
}