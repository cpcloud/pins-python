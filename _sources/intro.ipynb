{
 "cells": [
  {
   "cell_type": "markdown",
   "id": "c6f70ec0",
   "metadata": {},
   "source": [
    "# Welcome\n",
    "\n",
    "```{image} logo.png\n",
    ":align: right\n",
    ":height: 139px\n",
    ":alt: pins, a library for organizing and sharing data.\n",
    "```\n",
    "\n",
    "The pins package publishes data, models, and other R objects, making it easy to share them across projects and with your colleagues.\n",
    "You can pin objects to a variety of pin *boards*, including folders (to share on a networked drive or with services like DropBox), RStudio Connect, Amazon S3, Azure storage and ~Microsoft 365 (OneDrive and SharePoint)~.\n",
    "Pins can be automatically versioned, making it straightforward to track changes, re-run analyses on historical data, and undo mistakes.\n",
    "\n",
    "## 🚧 Installation\n",
    "\n",
    "To try out the development version of pins you'll need to install from GitHub:\n",
    "\n",
    "```shell\n",
    "python -m pip install git+https://github.com/machow/pins-python\n",
    "```\n",
    "\n",
    "## Usage\n",
    "\n",
    "To use the pins package, you must first create a pin board.\n",
    "A good place to start is `board_folder()`, which stores pins in a directory you specify.\n",
    "Here I'll use a special version of `board_folder()` called `board_temp()` which creates a temporary board that's automatically deleted when your R session ends.\n",
    "This is great for examples, but obviously you shouldn't use it for real work!"
   ]
  },
  {
   "cell_type": "code",
   "execution_count": 1,
   "id": "538542ba",
   "metadata": {},
   "outputs": [
    {
     "data": {
      "text/plain": [
       "<pins.boards.BaseBoard at 0x7f0cf8d569a0>"
      ]
     },
     "execution_count": 1,
     "metadata": {},
     "output_type": "execute_result"
    }
   ],
   "source": [
    "from pins import board_temp\n",
    "from pins.data import mtcars\n",
    "\n",
    "board = board_temp()\n",
    "board"
   ]
  },
  {
   "cell_type": "markdown",
   "id": "143080b5",
   "metadata": {},
   "source": [
    "You can \"pin\" (save) data to a board with `pin_write()`.\n",
    "It takes three arguments: the board to pin to, an object, and a name:"
   ]
  },
  {
   "cell_type": "code",
   "execution_count": 2,
   "id": "df49f18a",
   "metadata": {},
   "outputs": [
    {
     "name": "stderr",
     "output_type": "stream",
     "text": [
      "Writing to pin 'mtcars'\n"
     ]
    },
    {
     "data": {
      "text/plain": [
       "Meta(title='mtcars: a pinned 5 x 11 DataFrame', description=None, created='20220503T220134Z', pin_hash='120a54f7e0818041', file='mtcars.csv', file_size=249, type='csv', api_version=1, version=Version(created=datetime.datetime(2022, 5, 3, 22, 1, 34, 926044), hash='120a54f7e0818041'), name='mtcars', user={})"
      ]
     },
     "execution_count": 2,
     "metadata": {},
     "output_type": "execute_result"
    }
   ],
   "source": [
    "board.pin_write(mtcars.head(), \"mtcars\", type=\"csv\")"
   ]
  },
  {
   "cell_type": "markdown",
   "id": "5b859049",
   "metadata": {},
   "source": [
    "~As you can see, the data saved as an `.rds` by default~, but depending on what you're saving and who else you want to read it, you might use the `type` argument to instead save it as a `csv`, ~`json`, or `arrow`~ file.\n",
    "\n",
    "You can later retrieve the pinned data with `pin_read()`:"
   ]
  },
  {
   "cell_type": "code",
   "execution_count": 3,
   "id": "306e2631",
   "metadata": {},
   "outputs": [
    {
     "data": {
      "text/html": [
       "<div>\n",
       "<style scoped>\n",
       "    .dataframe tbody tr th:only-of-type {\n",
       "        vertical-align: middle;\n",
       "    }\n",
       "\n",
       "    .dataframe tbody tr th {\n",
       "        vertical-align: top;\n",
       "    }\n",
       "\n",
       "    .dataframe thead th {\n",
       "        text-align: right;\n",
       "    }\n",
       "</style>\n",
       "<table border=\"1\" class=\"dataframe\">\n",
       "  <thead>\n",
       "    <tr style=\"text-align: right;\">\n",
       "      <th></th>\n",
       "      <th>mpg</th>\n",
       "      <th>cyl</th>\n",
       "      <th>disp</th>\n",
       "      <th>hp</th>\n",
       "      <th>drat</th>\n",
       "      <th>wt</th>\n",
       "      <th>qsec</th>\n",
       "      <th>vs</th>\n",
       "      <th>am</th>\n",
       "      <th>gear</th>\n",
       "      <th>carb</th>\n",
       "    </tr>\n",
       "  </thead>\n",
       "  <tbody>\n",
       "    <tr>\n",
       "      <th>0</th>\n",
       "      <td>21.0</td>\n",
       "      <td>6</td>\n",
       "      <td>160.0</td>\n",
       "      <td>110</td>\n",
       "      <td>3.90</td>\n",
       "      <td>2.620</td>\n",
       "      <td>16.46</td>\n",
       "      <td>0</td>\n",
       "      <td>1</td>\n",
       "      <td>4</td>\n",
       "      <td>4</td>\n",
       "    </tr>\n",
       "    <tr>\n",
       "      <th>1</th>\n",
       "      <td>21.0</td>\n",
       "      <td>6</td>\n",
       "      <td>160.0</td>\n",
       "      <td>110</td>\n",
       "      <td>3.90</td>\n",
       "      <td>2.875</td>\n",
       "      <td>17.02</td>\n",
       "      <td>0</td>\n",
       "      <td>1</td>\n",
       "      <td>4</td>\n",
       "      <td>4</td>\n",
       "    </tr>\n",
       "    <tr>\n",
       "      <th>2</th>\n",
       "      <td>22.8</td>\n",
       "      <td>4</td>\n",
       "      <td>108.0</td>\n",
       "      <td>93</td>\n",
       "      <td>3.85</td>\n",
       "      <td>2.320</td>\n",
       "      <td>18.61</td>\n",
       "      <td>1</td>\n",
       "      <td>1</td>\n",
       "      <td>4</td>\n",
       "      <td>1</td>\n",
       "    </tr>\n",
       "    <tr>\n",
       "      <th>3</th>\n",
       "      <td>21.4</td>\n",
       "      <td>6</td>\n",
       "      <td>258.0</td>\n",
       "      <td>110</td>\n",
       "      <td>3.08</td>\n",
       "      <td>3.215</td>\n",
       "      <td>19.44</td>\n",
       "      <td>1</td>\n",
       "      <td>0</td>\n",
       "      <td>3</td>\n",
       "      <td>1</td>\n",
       "    </tr>\n",
       "    <tr>\n",
       "      <th>4</th>\n",
       "      <td>18.7</td>\n",
       "      <td>8</td>\n",
       "      <td>360.0</td>\n",
       "      <td>175</td>\n",
       "      <td>3.15</td>\n",
       "      <td>3.440</td>\n",
       "      <td>17.02</td>\n",
       "      <td>0</td>\n",
       "      <td>0</td>\n",
       "      <td>3</td>\n",
       "      <td>2</td>\n",
       "    </tr>\n",
       "  </tbody>\n",
       "</table>\n",
       "</div>"
      ],
      "text/plain": [
       "    mpg  cyl   disp   hp  drat     wt   qsec  vs  am  gear  carb\n",
       "0  21.0    6  160.0  110  3.90  2.620  16.46   0   1     4     4\n",
       "1  21.0    6  160.0  110  3.90  2.875  17.02   0   1     4     4\n",
       "2  22.8    4  108.0   93  3.85  2.320  18.61   1   1     4     1\n",
       "3  21.4    6  258.0  110  3.08  3.215  19.44   1   0     3     1\n",
       "4  18.7    8  360.0  175  3.15  3.440  17.02   0   0     3     2"
      ]
     },
     "execution_count": 3,
     "metadata": {},
     "output_type": "execute_result"
    }
   ],
   "source": [
    "board.pin_read(\"mtcars\")"
   ]
  },
  {
   "cell_type": "markdown",
   "id": "de2f0267",
   "metadata": {},
   "source": [
    "A board on your computer is good place to start, but the real power of pins comes when you use a board that's shared with multiple people.\n",
    "To get started, you can use `board_folder()` with a directory on a shared drive or in dropbox, or if you use [RStudio Connect](https://www.rstudio.com/products/connect/) you can use `board_rsconnect()`:\n",
    "\n",
    "🚧 TODO: add informational messages shown in display below"
   ]
  },
  {
   "cell_type": "markdown",
   "id": "56b09b54",
   "metadata": {},
   "source": [
    "```python\n",
    "from pins import board_rsconnect\n",
    "\n",
    "board = board_rsconnect()\n",
    "#> Connecting to RSC 1.9.0.1 at <https://connect.rstudioservices.com>\n",
    "\n",
    "board.pin_write(tidy_sales_data, \"sales-summary\", type = \"csv\")\n",
    "#> Writing to pin 'hadley/sales-summary'\n",
    "```"
   ]
  },
  {
   "cell_type": "markdown",
   "id": "1fb135bc",
   "metadata": {},
   "source": [
    "Then, someone else (or an automated Rmd report) can read and use your pin:"
   ]
  },
  {
   "cell_type": "markdown",
   "id": "24a19f29",
   "metadata": {},
   "source": [
    "```python\n",
    "board = board_rsconnect()\n",
    "board.pin_read(\"hadley/sales-summary\")\n",
    "```"
   ]
  },
  {
   "cell_type": "markdown",
   "id": "9bf1c247",
   "metadata": {},
   "source": [
    "You can easily control who gets to access the data using the RStudio Connect permissions pane.\n",
    "\n",
    "The pins package also includes boards that allow you to share data on services like Amazon's S3 (`board_s3()`), Azure's blob storage (`board_azure()`), and Microsoft SharePoint (`board_ms365()`).\n",
    "Learn more in [getting started](getting_started.Rmd)."
   ]
  }
 ],
 "metadata": {
  "jupytext": {
   "formats": "md:myst",
   "text_representation": {
    "extension": ".md",
    "format_name": "myst",
    "format_version": 0.13,
    "jupytext_version": "1.13.6"
   }
  },
  "kernelspec": {
   "display_name": "venv-pins-python",
   "language": "python",
   "name": "venv-pins-python"
  },
  "language_info": {
   "codemirror_mode": {
    "name": "ipython",
    "version": 3
   },
   "file_extension": ".py",
   "mimetype": "text/x-python",
   "name": "python",
   "nbconvert_exporter": "python",
   "pygments_lexer": "ipython3",
   "version": "3.8.12"
  },
  "source_map": [
   13,
   42,
   48,
   53,
   55,
   61,
   63,
   70,
   82,
   86,
   93
  ]
 },
 "nbformat": 4,
 "nbformat_minor": 5
}