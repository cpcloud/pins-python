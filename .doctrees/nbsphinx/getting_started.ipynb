{
 "cells": [
  {
   "cell_type": "code",
   "execution_count": 1,
   "id": "a3944142",
   "metadata": {
    "execution": {
     "iopub.execute_input": "2022-04-01T20:28:28.161344Z",
     "iopub.status.busy": "2022-04-01T20:28:28.161003Z",
     "iopub.status.idle": "2022-04-01T20:28:28.411066Z",
     "shell.execute_reply": "2022-04-01T20:28:28.410487Z"
    },
    "nbsphinx": "hidden",
    "tags": []
   },
   "outputs": [],
   "source": [
    "import pandas as pd\n",
    "pd.options.display.max_rows = 25"
   ]
  },
  {
   "cell_type": "markdown",
   "id": "18f87e33",
   "metadata": {},
   "source": [
    "Getting Started\n",
    "===============\n",
    "\n",
    "The pins package helps you publish data sets, models, and other R objects, making it easy to share them across projects and with your colleagues.\n",
    "You can pin objects to a variety of \"boards\", including local folders (to share on a networked drive or with dropbox), RStudio connect, Amazon S3, and more.\n",
    "This vignette will introduce you to the basics of pins."
   ]
  },
  {
   "cell_type": "code",
   "execution_count": 2,
   "id": "aee3288c",
   "metadata": {
    "execution": {
     "iopub.execute_input": "2022-04-01T20:28:28.414572Z",
     "iopub.status.busy": "2022-04-01T20:28:28.414254Z",
     "iopub.status.idle": "2022-04-01T20:28:28.469958Z",
     "shell.execute_reply": "2022-04-01T20:28:28.469424Z"
    }
   },
   "outputs": [],
   "source": [
    "from pins import board_local, board_folder, board_temp, board_urls"
   ]
  },
  {
   "cell_type": "markdown",
   "id": "8436e4bb",
   "metadata": {},
   "source": [
    "## Getting started\n",
    "\n",
    "Every pin lives in a pin *board*, so you must start by creating a pin board.\n",
    "In this vignette I'll use a temporary board which is automatically deleted when your python session is over:"
   ]
  },
  {
   "cell_type": "code",
   "execution_count": 3,
   "id": "5f1b971c",
   "metadata": {
    "execution": {
     "iopub.execute_input": "2022-04-01T20:28:28.473044Z",
     "iopub.status.busy": "2022-04-01T20:28:28.472744Z",
     "iopub.status.idle": "2022-04-01T20:28:28.476543Z",
     "shell.execute_reply": "2022-04-01T20:28:28.476005Z"
    }
   },
   "outputs": [],
   "source": [
    "board = board_temp()"
   ]
  },
  {
   "cell_type": "markdown",
   "id": "d40d12ad",
   "metadata": {},
   "source": [
    "In real-life, you'd pick a board depending on how you want to share the data.\n",
    "Here are a few options:"
   ]
  },
  {
   "cell_type": "markdown",
   "id": "1e9c10a1",
   "metadata": {},
   "source": [
    "```python\n",
    "board = board_local() # share data across R sessions on the same computer\n",
    "board = board_folder(\"~/Dropbox\") # share data with others using dropbox\n",
    "board = board_folder(\"Z:\\\\my-team\\pins\") # share data using a shared network drive\n",
    "board = board_rsconnect() # share data with RStudio Connect\n",
    "```"
   ]
  },
  {
   "cell_type": "markdown",
   "id": "6ef7417b",
   "metadata": {},
   "source": [
    "## Reading and writing data\n",
    "\n",
    "Once you have a pin board, you can write data to it with `pin_write()`:"
   ]
  },
  {
   "cell_type": "code",
   "execution_count": 4,
   "id": "00544184",
   "metadata": {
    "execution": {
     "iopub.execute_input": "2022-04-01T20:28:28.479227Z",
     "iopub.status.busy": "2022-04-01T20:28:28.478876Z",
     "iopub.status.idle": "2022-04-01T20:28:28.609504Z",
     "shell.execute_reply": "2022-04-01T20:28:28.608910Z"
    }
   },
   "outputs": [],
   "source": [
    "from pins.data import mtcars\n",
    "\n",
    "meta = board.pin_write(mtcars, \"mtcars\", type=\"csv\")"
   ]
  },
  {
   "cell_type": "markdown",
   "id": "97880ea9",
   "metadata": {},
   "source": [
    "The first argument is the object to save (usually a data frame, but it can be any R object), and the second argument gives the \"name\" of the pin.\n",
    "The name is basically equivalent to a file name: you'll use it when you later want to read the data from the pin.\n",
    "The only rule for a pin name is that it can't contain slashes."
   ]
  },
  {
   "cell_type": "markdown",
   "id": "b708a8f6",
   "metadata": {},
   "source": [
    "As you can see from the output, pins has chosen to save this data to an `.rds` file.\n",
    "But you can choose another option depending on your goals:\n",
    "\n",
    "-   `type = \"csv\"` uses `write.csv()` to create a `.csv` file. CSVs can read by any application, but only support simple columns (e.g. numbers, strings, dates), can take up a lot of disk space, and can be slow to read.\n",
    "-   `type = \"joblib\"` uses `joblib.dump()` to create a binary python data file. See the [joblib docs](https://joblib.readthedocs.io/en/latest/) for more information.\n",
    "\n",
    "🚧 Data formats TODO 🚧\n",
    "\n",
    "-   `type = \"arrow\"` uses `arrow::write_feather()` to create an arrow/feather file. [Arrow](https://arrow.apache.org) is a modern, language-independent, high-performance file format designed for data science. Not every tool can read arrow files, but support is growing rapidly.\n",
    "-   `type = \"json\"` uses `jsonlite::write_json()` to create a `.json` file. Pretty much every programming language can read json files, but they only work well for nested lists.\n",
    "\n",
    "After you've pinned an object, you can read it back with `pin_read()`:"
   ]
  },
  {
   "cell_type": "code",
   "execution_count": 5,
   "id": "27e9f809",
   "metadata": {
    "execution": {
     "iopub.execute_input": "2022-04-01T20:28:28.618706Z",
     "iopub.status.busy": "2022-04-01T20:28:28.618522Z",
     "iopub.status.idle": "2022-04-01T20:28:28.647010Z",
     "shell.execute_reply": "2022-04-01T20:28:28.646498Z"
    }
   },
   "outputs": [
    {
     "data": {
      "text/html": [
       "<div>\n",
       "<style scoped>\n",
       "    .dataframe tbody tr th:only-of-type {\n",
       "        vertical-align: middle;\n",
       "    }\n",
       "\n",
       "    .dataframe tbody tr th {\n",
       "        vertical-align: top;\n",
       "    }\n",
       "\n",
       "    .dataframe thead th {\n",
       "        text-align: right;\n",
       "    }\n",
       "</style>\n",
       "<table border=\"1\" class=\"dataframe\">\n",
       "  <thead>\n",
       "    <tr style=\"text-align: right;\">\n",
       "      <th></th>\n",
       "      <th>mpg</th>\n",
       "      <th>cyl</th>\n",
       "      <th>disp</th>\n",
       "      <th>hp</th>\n",
       "      <th>drat</th>\n",
       "      <th>wt</th>\n",
       "      <th>qsec</th>\n",
       "      <th>vs</th>\n",
       "      <th>am</th>\n",
       "      <th>gear</th>\n",
       "      <th>carb</th>\n",
       "    </tr>\n",
       "  </thead>\n",
       "  <tbody>\n",
       "    <tr>\n",
       "      <th>0</th>\n",
       "      <td>21.0</td>\n",
       "      <td>6</td>\n",
       "      <td>160.0</td>\n",
       "      <td>110</td>\n",
       "      <td>3.90</td>\n",
       "      <td>2.620</td>\n",
       "      <td>16.46</td>\n",
       "      <td>0</td>\n",
       "      <td>1</td>\n",
       "      <td>4</td>\n",
       "      <td>4</td>\n",
       "    </tr>\n",
       "    <tr>\n",
       "      <th>1</th>\n",
       "      <td>21.0</td>\n",
       "      <td>6</td>\n",
       "      <td>160.0</td>\n",
       "      <td>110</td>\n",
       "      <td>3.90</td>\n",
       "      <td>2.875</td>\n",
       "      <td>17.02</td>\n",
       "      <td>0</td>\n",
       "      <td>1</td>\n",
       "      <td>4</td>\n",
       "      <td>4</td>\n",
       "    </tr>\n",
       "    <tr>\n",
       "      <th>2</th>\n",
       "      <td>22.8</td>\n",
       "      <td>4</td>\n",
       "      <td>108.0</td>\n",
       "      <td>93</td>\n",
       "      <td>3.85</td>\n",
       "      <td>2.320</td>\n",
       "      <td>18.61</td>\n",
       "      <td>1</td>\n",
       "      <td>1</td>\n",
       "      <td>4</td>\n",
       "      <td>1</td>\n",
       "    </tr>\n",
       "    <tr>\n",
       "      <th>3</th>\n",
       "      <td>21.4</td>\n",
       "      <td>6</td>\n",
       "      <td>258.0</td>\n",
       "      <td>110</td>\n",
       "      <td>3.08</td>\n",
       "      <td>3.215</td>\n",
       "      <td>19.44</td>\n",
       "      <td>1</td>\n",
       "      <td>0</td>\n",
       "      <td>3</td>\n",
       "      <td>1</td>\n",
       "    </tr>\n",
       "    <tr>\n",
       "      <th>4</th>\n",
       "      <td>18.7</td>\n",
       "      <td>8</td>\n",
       "      <td>360.0</td>\n",
       "      <td>175</td>\n",
       "      <td>3.15</td>\n",
       "      <td>3.440</td>\n",
       "      <td>17.02</td>\n",
       "      <td>0</td>\n",
       "      <td>0</td>\n",
       "      <td>3</td>\n",
       "      <td>2</td>\n",
       "    </tr>\n",
       "    <tr>\n",
       "      <th>...</th>\n",
       "      <td>...</td>\n",
       "      <td>...</td>\n",
       "      <td>...</td>\n",
       "      <td>...</td>\n",
       "      <td>...</td>\n",
       "      <td>...</td>\n",
       "      <td>...</td>\n",
       "      <td>...</td>\n",
       "      <td>...</td>\n",
       "      <td>...</td>\n",
       "      <td>...</td>\n",
       "    </tr>\n",
       "    <tr>\n",
       "      <th>27</th>\n",
       "      <td>30.4</td>\n",
       "      <td>4</td>\n",
       "      <td>95.1</td>\n",
       "      <td>113</td>\n",
       "      <td>3.77</td>\n",
       "      <td>1.513</td>\n",
       "      <td>16.90</td>\n",
       "      <td>1</td>\n",
       "      <td>1</td>\n",
       "      <td>5</td>\n",
       "      <td>2</td>\n",
       "    </tr>\n",
       "    <tr>\n",
       "      <th>28</th>\n",
       "      <td>15.8</td>\n",
       "      <td>8</td>\n",
       "      <td>351.0</td>\n",
       "      <td>264</td>\n",
       "      <td>4.22</td>\n",
       "      <td>3.170</td>\n",
       "      <td>14.50</td>\n",
       "      <td>0</td>\n",
       "      <td>1</td>\n",
       "      <td>5</td>\n",
       "      <td>4</td>\n",
       "    </tr>\n",
       "    <tr>\n",
       "      <th>29</th>\n",
       "      <td>19.7</td>\n",
       "      <td>6</td>\n",
       "      <td>145.0</td>\n",
       "      <td>175</td>\n",
       "      <td>3.62</td>\n",
       "      <td>2.770</td>\n",
       "      <td>15.50</td>\n",
       "      <td>0</td>\n",
       "      <td>1</td>\n",
       "      <td>5</td>\n",
       "      <td>6</td>\n",
       "    </tr>\n",
       "    <tr>\n",
       "      <th>30</th>\n",
       "      <td>15.0</td>\n",
       "      <td>8</td>\n",
       "      <td>301.0</td>\n",
       "      <td>335</td>\n",
       "      <td>3.54</td>\n",
       "      <td>3.570</td>\n",
       "      <td>14.60</td>\n",
       "      <td>0</td>\n",
       "      <td>1</td>\n",
       "      <td>5</td>\n",
       "      <td>8</td>\n",
       "    </tr>\n",
       "    <tr>\n",
       "      <th>31</th>\n",
       "      <td>21.4</td>\n",
       "      <td>4</td>\n",
       "      <td>121.0</td>\n",
       "      <td>109</td>\n",
       "      <td>4.11</td>\n",
       "      <td>2.780</td>\n",
       "      <td>18.60</td>\n",
       "      <td>1</td>\n",
       "      <td>1</td>\n",
       "      <td>4</td>\n",
       "      <td>2</td>\n",
       "    </tr>\n",
       "  </tbody>\n",
       "</table>\n",
       "<p>32 rows × 11 columns</p>\n",
       "</div>"
      ],
      "text/plain": [
       "     mpg  cyl   disp   hp  drat     wt   qsec  vs  am  gear  carb\n",
       "0   21.0    6  160.0  110  3.90  2.620  16.46   0   1     4     4\n",
       "1   21.0    6  160.0  110  3.90  2.875  17.02   0   1     4     4\n",
       "2   22.8    4  108.0   93  3.85  2.320  18.61   1   1     4     1\n",
       "3   21.4    6  258.0  110  3.08  3.215  19.44   1   0     3     1\n",
       "4   18.7    8  360.0  175  3.15  3.440  17.02   0   0     3     2\n",
       "..   ...  ...    ...  ...   ...    ...    ...  ..  ..   ...   ...\n",
       "27  30.4    4   95.1  113  3.77  1.513  16.90   1   1     5     2\n",
       "28  15.8    8  351.0  264  4.22  3.170  14.50   0   1     5     4\n",
       "29  19.7    6  145.0  175  3.62  2.770  15.50   0   1     5     6\n",
       "30  15.0    8  301.0  335  3.54  3.570  14.60   0   1     5     8\n",
       "31  21.4    4  121.0  109  4.11  2.780  18.60   1   1     4     2\n",
       "\n",
       "[32 rows x 11 columns]"
      ]
     },
     "execution_count": 5,
     "metadata": {},
     "output_type": "execute_result"
    }
   ],
   "source": [
    "board.pin_read(\"mtcars\")"
   ]
  },
  {
   "cell_type": "markdown",
   "id": "e4ef2f50",
   "metadata": {},
   "source": [
    "You don't need to supply the file type when reading data from a pin because pins automatically stores the file type in the metadata, the topic of the next section.\n",
    "\n",
    "Note that when the data lives elsewhere, pins takes care of downloading and caching so that it's only re-downloaded when needed.\n",
    "That said, most boards transmit pins over HTTP, and this is going to be slow and possibly unreliable for very large pins.\n",
    "As a general rule of thumb, we don't recommend using pins with files over 500 MB.\n",
    "If you find yourself routinely pinning data larger that this, you might need to reconsider your data engineering pipeline."
   ]
  },
  {
   "cell_type": "markdown",
   "id": "a330eab6",
   "metadata": {},
   "source": [
    "## Metadata"
   ]
  },
  {
   "cell_type": "markdown",
   "id": "091719dd",
   "metadata": {},
   "source": [
    "Every pin is accompanied by some metadata that you can access with pin_meta():"
   ]
  },
  {
   "cell_type": "code",
   "execution_count": 6,
   "id": "14be2be6",
   "metadata": {
    "execution": {
     "iopub.execute_input": "2022-04-01T20:28:28.650123Z",
     "iopub.status.busy": "2022-04-01T20:28:28.649906Z",
     "iopub.status.idle": "2022-04-01T20:28:28.674597Z",
     "shell.execute_reply": "2022-04-01T20:28:28.674010Z"
    }
   },
   "outputs": [
    {
     "data": {
      "text/plain": [
       "Meta(title='A pinned 32 x 11 CSV', description=None, created='20220401T202828Z', pin_hash='7f10d4e9942bb928', file='mtcars', file_size=1420, type='csv', api_version=1, version=Version(created=datetime.datetime(2022, 4, 1, 20, 28, 28), hash='7f10d'), name='mtcars', user={})"
      ]
     },
     "execution_count": 6,
     "metadata": {},
     "output_type": "execute_result"
    }
   ],
   "source": [
    "board.pin_meta(\"mtcars\")"
   ]
  },
  {
   "cell_type": "markdown",
   "id": "4bab18b3",
   "metadata": {},
   "source": [
    "This shows you the metadata that’s generated by default. This includes:\n",
    "\n",
    "* `title`, a brief textual description of the dataset.\n",
    "* an optional `description`, where you can provide more details.\n",
    "* the date-time when the pin was `created`.\n",
    "* the `file_size`, in bytes, of the underlying files.\n",
    "* a unique `pin_hash` that you can supply to `pin_read()` to ensure that you’re reading exactly the data that you expect.\n",
    "\n",
    "When creating the pin, you can override the default description or provide additional metadata that is stored with the data:"
   ]
  },
  {
   "cell_type": "code",
   "execution_count": 7,
   "id": "deb841bb",
   "metadata": {
    "execution": {
     "iopub.execute_input": "2022-04-01T20:28:28.679626Z",
     "iopub.status.busy": "2022-04-01T20:28:28.679342Z",
     "iopub.status.idle": "2022-04-01T20:28:28.689704Z",
     "shell.execute_reply": "2022-04-01T20:28:28.689168Z"
    }
   },
   "outputs": [
    {
     "data": {
      "text/plain": [
       "Meta(title='A pinned 32 x 11 CSV', description='Data extracted from the 1974 Motor Trend US magazine, and comprises fuel consumption and 10 aspects of automobile design and performance for 32 automobiles (1973–74 models).', created='20220401T202828Z', pin_hash='7f10d4e9942bb928', file='mtcars2', file_size=1420, type='csv', api_version=1, version=Version(created=datetime.datetime(2022, 4, 1, 20, 28, 28, 683558), hash='7f10d4e9942bb928'), name='mtcars2', user={'source': 'Henderson and Velleman (1981), Building multiple regression models interactively. Biometrics, 37, 391–411.'})"
      ]
     },
     "execution_count": 7,
     "metadata": {},
     "output_type": "execute_result"
    }
   ],
   "source": [
    "board.pin_write(\n",
    "    mtcars,\n",
    "    name=\"mtcars2\",\n",
    "    type=\"csv\",\n",
    "    description = \"Data extracted from the 1974 Motor Trend US magazine, and comprises fuel consumption and 10 aspects of automobile design and performance for 32 automobiles (1973–74 models).\",\n",
    "    metadata = {\n",
    "        \"source\": \"Henderson and Velleman (1981), Building multiple regression models interactively. Biometrics, 37, 391–411.\"\n",
    "    }\n",
    ")"
   ]
  },
  {
   "cell_type": "code",
   "execution_count": 8,
   "id": "bf4f7f36",
   "metadata": {
    "execution": {
     "iopub.execute_input": "2022-04-01T20:28:28.692397Z",
     "iopub.status.busy": "2022-04-01T20:28:28.692233Z",
     "iopub.status.idle": "2022-04-01T20:28:28.706495Z",
     "shell.execute_reply": "2022-04-01T20:28:28.705932Z"
    }
   },
   "outputs": [
    {
     "data": {
      "text/plain": [
       "Meta(title='A pinned 32 x 11 CSV', description=None, created='20220401T202828Z', pin_hash='7f10d4e9942bb928', file='mtcars', file_size=1420, type='csv', api_version=1, version=Version(created=datetime.datetime(2022, 4, 1, 20, 28, 28), hash='7f10d'), name='mtcars', user={})"
      ]
     },
     "execution_count": 8,
     "metadata": {},
     "output_type": "execute_result"
    }
   ],
   "source": [
    "board.pin_meta(\"mtcars\")"
   ]
  },
  {
   "cell_type": "markdown",
   "id": "d5fb044d",
   "metadata": {},
   "source": [
    "While we’ll do our best to keep the automatically generated metadata consistent over time, I’d recommend manually capturing anything you really care about in metadata."
   ]
  },
  {
   "cell_type": "markdown",
   "id": "964d3dde",
   "metadata": {},
   "source": [
    "## 🚧 Versioning"
   ]
  },
  {
   "cell_type": "markdown",
   "id": "442c2c25",
   "metadata": {},
   "source": [
    "> ⚠️: versioning is not yet implemented. These docs are copied from R pins.\n",
    "\n",
    "In many situations it's useful to version pins, so that writing to an existing pin does not replace the existing data, but instead adds a new copy.\n",
    "There are two ways to turn versioning on:\n",
    "\n",
    "-   When you create a board you can turn versioning on for every pin in that board:\n",
    "\n",
    "    ```python\n",
    "    board2 = board_temp(versioned = TRUE)\n",
    "    ```\n",
    "\n",
    "-   When you write a pin, you can specifically request that versioning be turned on for that pin:\n",
    "\n",
    "    ```python\n",
    "    board2 = board_temp()\n",
    "    board2.pin_write(mtcars, versioned = TRUE)\n",
    "    ```\n",
    "\n",
    "Most boards have versioning on by default.\n",
    "The primary exception is `board_folder()` since that stores data on your computer, and there's no automated way to clean up the data your saving.\n",
    "\n",
    "Once you have turned versioning on, every `pin_write()` will create a new version:"
   ]
  },
  {
   "cell_type": "code",
   "execution_count": 9,
   "id": "60af8a20",
   "metadata": {
    "execution": {
     "iopub.execute_input": "2022-04-01T20:28:28.709316Z",
     "iopub.status.busy": "2022-04-01T20:28:28.709151Z",
     "iopub.status.idle": "2022-04-01T20:28:28.951384Z",
     "shell.execute_reply": "2022-04-01T20:28:28.950784Z"
    }
   },
   "outputs": [
    {
     "data": {
      "text/html": [
       "<div>\n",
       "<style scoped>\n",
       "    .dataframe tbody tr th:only-of-type {\n",
       "        vertical-align: middle;\n",
       "    }\n",
       "\n",
       "    .dataframe tbody tr th {\n",
       "        vertical-align: top;\n",
       "    }\n",
       "\n",
       "    .dataframe thead th {\n",
       "        text-align: right;\n",
       "    }\n",
       "</style>\n",
       "<table border=\"1\" class=\"dataframe\">\n",
       "  <thead>\n",
       "    <tr style=\"text-align: right;\">\n",
       "      <th></th>\n",
       "      <th>created</th>\n",
       "      <th>hash</th>\n",
       "      <th>version</th>\n",
       "    </tr>\n",
       "  </thead>\n",
       "  <tbody>\n",
       "    <tr>\n",
       "      <th>0</th>\n",
       "      <td>2022-04-01 20:28:28</td>\n",
       "      <td>91544</td>\n",
       "      <td>20220401T202828Z-91544</td>\n",
       "    </tr>\n",
       "    <tr>\n",
       "      <th>1</th>\n",
       "      <td>2022-04-01 20:28:28</td>\n",
       "      <td>331fd</td>\n",
       "      <td>20220401T202828Z-331fd</td>\n",
       "    </tr>\n",
       "    <tr>\n",
       "      <th>2</th>\n",
       "      <td>2022-04-01 20:28:28</td>\n",
       "      <td>40b4b</td>\n",
       "      <td>20220401T202828Z-40b4b</td>\n",
       "    </tr>\n",
       "  </tbody>\n",
       "</table>\n",
       "</div>"
      ],
      "text/plain": [
       "              created   hash                 version\n",
       "0 2022-04-01 20:28:28  91544  20220401T202828Z-91544\n",
       "1 2022-04-01 20:28:28  331fd  20220401T202828Z-331fd\n",
       "2 2022-04-01 20:28:28  40b4b  20220401T202828Z-40b4b"
      ]
     },
     "execution_count": 9,
     "metadata": {},
     "output_type": "execute_result"
    }
   ],
   "source": [
    "# TODO: can save lists using joblib, but should warn about security\n",
    "\n",
    "board2 = board_temp(versioned = True)\n",
    "board2.pin_write([1,2,3,4,5], name = \"x\", type = \"joblib\", title=\"TODO\")\n",
    "board2.pin_write([1,2,3], name = \"x\", type = \"joblib\", title=\"TODO\")\n",
    "board2.pin_write([1,2], name = \"x\", type = \"joblib\", title=\"TODO\")\n",
    "board2.pin_versions(\"x\")"
   ]
  },
  {
   "cell_type": "markdown",
   "id": "cd97f238",
   "metadata": {},
   "source": [
    "By default, `pin_read()` will return the most recent version:"
   ]
  },
  {
   "cell_type": "code",
   "execution_count": 10,
   "id": "e2768c4e",
   "metadata": {
    "execution": {
     "iopub.execute_input": "2022-04-01T20:28:28.954337Z",
     "iopub.status.busy": "2022-04-01T20:28:28.953944Z",
     "iopub.status.idle": "2022-04-01T20:28:28.960371Z",
     "shell.execute_reply": "2022-04-01T20:28:28.959673Z"
    }
   },
   "outputs": [
    {
     "data": {
      "text/plain": [
       "[1, 2]"
      ]
     },
     "execution_count": 10,
     "metadata": {},
     "output_type": "execute_result"
    }
   ],
   "source": [
    "board2.pin_read(\"x\")"
   ]
  },
  {
   "cell_type": "markdown",
   "id": "674ec7ca",
   "metadata": {},
   "source": [
    "But you can request an older version by supplying the `version` argument:"
   ]
  },
  {
   "cell_type": "code",
   "execution_count": 11,
   "id": "0a98c1e3",
   "metadata": {
    "execution": {
     "iopub.execute_input": "2022-04-01T20:28:28.962856Z",
     "iopub.status.busy": "2022-04-01T20:28:28.962693Z",
     "iopub.status.idle": "2022-04-01T20:28:28.969241Z",
     "shell.execute_reply": "2022-04-01T20:28:28.968712Z"
    }
   },
   "outputs": [
    {
     "data": {
      "text/plain": [
       "[1, 2, 3]"
      ]
     },
     "execution_count": 11,
     "metadata": {},
     "output_type": "execute_result"
    }
   ],
   "source": [
    "version = board2.pin_versions(\"x\").version[1]\n",
    "board2.pin_read(\"x\", version = version)"
   ]
  },
  {
   "cell_type": "markdown",
   "id": "7d73382d",
   "metadata": {},
   "source": [
    "## 🚧 Reading and writing files"
   ]
  },
  {
   "cell_type": "markdown",
   "id": "e5803352",
   "metadata": {},
   "source": [
    "So far we've focussed on `pin_write()` and `pin_read()` which work with R objects.\n",
    "pins also provides the lower-level `pin_upload()` and `pin_download()` which work with files on disk.\n",
    "You can use them to share types of data that are otherwise unsupported by pins.\n",
    "\n",
    "`pin_upload()` works like `pin_write()` but instead of an R object you give it a vector of paths.\n",
    "I'll start by creating a few files in the temp directory:\n"
   ]
  },
  {
   "cell_type": "code",
   "execution_count": 12,
   "id": "77631c57",
   "metadata": {
    "execution": {
     "iopub.execute_input": "2022-04-01T20:28:28.971663Z",
     "iopub.status.busy": "2022-04-01T20:28:28.971396Z",
     "iopub.status.idle": "2022-04-01T20:28:28.974203Z",
     "shell.execute_reply": "2022-04-01T20:28:28.973503Z"
    }
   },
   "outputs": [],
   "source": [
    "# paths = file.path(tempdir(), c(\"mtcars.csv\", \"alphabet.txt\"))\n",
    "# write.csv(mtcars, paths[[1]])\n",
    "# writeLines(letters, paths[[2]])"
   ]
  },
  {
   "cell_type": "markdown",
   "id": "2cdefa55",
   "metadata": {},
   "source": [
    "Now I can upload those to the board:"
   ]
  },
  {
   "cell_type": "code",
   "execution_count": 13,
   "id": "f9ecb7b3",
   "metadata": {
    "execution": {
     "iopub.execute_input": "2022-04-01T20:28:28.976736Z",
     "iopub.status.busy": "2022-04-01T20:28:28.976394Z",
     "iopub.status.idle": "2022-04-01T20:28:28.979161Z",
     "shell.execute_reply": "2022-04-01T20:28:28.978446Z"
    }
   },
   "outputs": [],
   "source": [
    "# board.pin_upload(paths, \"example\")"
   ]
  },
  {
   "cell_type": "markdown",
   "id": "2aea25ec",
   "metadata": {},
   "source": [
    "`pin_download()` returns a vector of paths:"
   ]
  },
  {
   "cell_type": "code",
   "execution_count": 14,
   "id": "510d6d65",
   "metadata": {
    "execution": {
     "iopub.execute_input": "2022-04-01T20:28:28.981656Z",
     "iopub.status.busy": "2022-04-01T20:28:28.981320Z",
     "iopub.status.idle": "2022-04-01T20:28:28.984288Z",
     "shell.execute_reply": "2022-04-01T20:28:28.983740Z"
    },
    "lines_to_next_cell": 2
   },
   "outputs": [],
   "source": [
    "# board.pin_download(\"example\")"
   ]
  },
  {
   "cell_type": "markdown",
   "id": "805ddda6",
   "metadata": {},
   "source": [
    "You should treat these paths as internal implementation details --- never modify them and never save them for use outside of pins.\n",
    "\n",
    "Note that you can't `pin_read()` something you pinned with `pin_upload()`:\n"
   ]
  },
  {
   "cell_type": "code",
   "execution_count": 15,
   "id": "51e7b29d",
   "metadata": {
    "execution": {
     "iopub.execute_input": "2022-04-01T20:28:28.986802Z",
     "iopub.status.busy": "2022-04-01T20:28:28.986483Z",
     "iopub.status.idle": "2022-04-01T20:28:28.988942Z",
     "shell.execute_reply": "2022-04-01T20:28:28.988514Z"
    }
   },
   "outputs": [],
   "source": [
    "# board.pin_read(\"example\")"
   ]
  },
  {
   "cell_type": "markdown",
   "id": "a2633e3d",
   "metadata": {},
   "source": [
    "But you can `pin_download()` something that you've pinned with `pin_write()`:"
   ]
  },
  {
   "cell_type": "code",
   "execution_count": 16,
   "id": "621df9c1",
   "metadata": {
    "execution": {
     "iopub.execute_input": "2022-04-01T20:28:28.991471Z",
     "iopub.status.busy": "2022-04-01T20:28:28.991310Z",
     "iopub.status.idle": "2022-04-01T20:28:28.993942Z",
     "shell.execute_reply": "2022-04-01T20:28:28.993284Z"
    }
   },
   "outputs": [],
   "source": [
    "# board.pin_download(\"mtcars\")"
   ]
  },
  {
   "cell_type": "markdown",
   "id": "65e271a8",
   "metadata": {},
   "source": [
    "## 🚧 Caching"
   ]
  },
  {
   "cell_type": "markdown",
   "id": "8fdde1eb",
   "metadata": {},
   "source": [
    "The primary purpose of pins is to make it easy to share data.\n",
    "But pins is also designed to help you spend as little time as possible downloading data.\n",
    "`pin_read()` and `pin_download()` automatically cache remote pins: they maintain a local copy of the data (so it's fast) but always check that it's up-to-date (so your analysis doesn't use stale data).\n",
    "\n",
    "Wouldn't it be nice if you could take advantage of this feature for any dataset on the internet?\n",
    "That's the idea behind `board_url()` --- you can assemble your own board from datasets, wherever they live on the internet.\n",
    "For example, this code creates a board containing a single pin, `penguins`, that refers to some fun data I found on GitHub:"
   ]
  },
  {
   "cell_type": "code",
   "execution_count": 17,
   "id": "44c7ed35",
   "metadata": {
    "execution": {
     "iopub.execute_input": "2022-04-01T20:28:28.996429Z",
     "iopub.status.busy": "2022-04-01T20:28:28.996268Z",
     "iopub.status.idle": "2022-04-01T20:28:29.150012Z",
     "shell.execute_reply": "2022-04-01T20:28:29.149464Z"
    }
   },
   "outputs": [],
   "source": [
    "my_data = board_urls(\"\", {\n",
    "  \"penguins\": \"https://raw.githubusercontent.com/allisonhorst/palmerpenguins/master/inst/extdata/penguins_raw.csv\"\n",
    "})"
   ]
  },
  {
   "cell_type": "markdown",
   "id": "f3376b99",
   "metadata": {},
   "source": [
    "You can read this data by combining `pin_download()` with `read.csv()`[^1]:\n",
    "\n",
    "[^1]: Here I'm using `read.csv()` to the reduce the dependencies of the pins package.\n",
    "    For real code I'd recommend using `data.table::fread()` or `readr::read_csv().`"
   ]
  },
  {
   "cell_type": "code",
   "execution_count": 18,
   "id": "8616580c",
   "metadata": {
    "execution": {
     "iopub.execute_input": "2022-04-01T20:28:29.153368Z",
     "iopub.status.busy": "2022-04-01T20:28:29.153035Z",
     "iopub.status.idle": "2022-04-01T20:28:29.155767Z",
     "shell.execute_reply": "2022-04-01T20:28:29.155280Z"
    }
   },
   "outputs": [],
   "source": [
    "# import pandas as pd\n",
    "\n",
    "# fname = my_data.pin_download(\"penguins\")\n",
    "\n",
    "# pd.read_csv(fname)"
   ]
  },
  {
   "cell_type": "code",
   "execution_count": 19,
   "id": "c4b704ae",
   "metadata": {
    "execution": {
     "iopub.execute_input": "2022-04-01T20:28:29.158268Z",
     "iopub.status.busy": "2022-04-01T20:28:29.158104Z",
     "iopub.status.idle": "2022-04-01T20:28:29.251213Z",
     "shell.execute_reply": "2022-04-01T20:28:29.250654Z"
    }
   },
   "outputs": [
    {
     "data": {
      "text/plain": [
       "['/home/runner/.cache/pins-py/http_e6ac0d2da33fad7e72df6b900933a691b89ed7d54ec0e4a36fe45c32d7e2f67e/v/penguins_raw.csv']"
      ]
     },
     "execution_count": 19,
     "metadata": {},
     "output_type": "execute_result"
    }
   ],
   "source": [
    "my_data.pin_download(\"penguins\")"
   ]
  }
 ],
 "metadata": {
  "jupytext": {
   "text_representation": {
    "extension": ".Rmd",
    "format_name": "rmarkdown",
    "format_version": "1.2",
    "jupytext_version": "1.13.6"
   }
  },
  "kernelspec": {
   "display_name": "venv-pins-python",
   "language": "python",
   "name": "venv-pins-python"
  },
  "language_info": {
   "codemirror_mode": {
    "name": "ipython",
    "version": 3
   },
   "file_extension": ".py",
   "mimetype": "text/x-python",
   "name": "python",
   "nbconvert_exporter": "python",
   "pygments_lexer": "ipython3",
   "version": "3.8.12"
  }
 },
 "nbformat": 4,
 "nbformat_minor": 5
}
