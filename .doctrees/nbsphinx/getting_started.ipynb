{
 "cells": [
  {
   "cell_type": "markdown",
   "id": "d9a731c7",
   "metadata": {},
   "source": [
    "Getting Started\n",
    "===============\n",
    "\n",
    "The pins package helps you publish data sets, models, and other R objects, making it easy to share them across projects and with your colleagues.\n",
    "You can pin objects to a variety of \"boards\", including local folders (to share on a networked drive or with dropbox), RStudio connect, Amazon S3, and more.\n",
    "This vignette will introduce you to the basics of pins."
   ]
  },
  {
   "cell_type": "code",
   "execution_count": 1,
   "id": "daf127bd",
   "metadata": {
    "execution": {
     "iopub.execute_input": "2022-03-23T15:28:34.925500Z",
     "iopub.status.busy": "2022-03-23T15:28:34.925039Z",
     "iopub.status.idle": "2022-03-23T15:28:34.960359Z",
     "shell.execute_reply": "2022-03-23T15:28:34.959819Z"
    }
   },
   "outputs": [],
   "source": [
    "import pins"
   ]
  },
  {
   "cell_type": "markdown",
   "id": "75db42b1",
   "metadata": {},
   "source": [
    "## Getting started\n",
    "\n",
    "Every pin lives in a pin *board*, so you must start by creating a pin board.\n",
    "In this vignette I'll use a temporary board which is automatically deleted when your R session is over:"
   ]
  },
  {
   "cell_type": "code",
   "execution_count": 2,
   "id": "b6ae5b8f",
   "metadata": {
    "execution": {
     "iopub.execute_input": "2022-03-23T15:28:34.963539Z",
     "iopub.status.busy": "2022-03-23T15:28:34.963246Z",
     "iopub.status.idle": "2022-03-23T15:28:34.990541Z",
     "shell.execute_reply": "2022-03-23T15:28:34.989999Z"
    }
   },
   "outputs": [],
   "source": [
    "# TODO: simple board constructors\n",
    "import fsspec\n",
    "import tempfile\n",
    "\n",
    "fs = fsspec.filesystem(\"file\")\n",
    "tmp_dir = tempfile.TemporaryDirectory()\n",
    "\n",
    "board = pins.BaseBoard(tmp_dir.name, fs)"
   ]
  },
  {
   "cell_type": "markdown",
   "id": "ade760b8",
   "metadata": {},
   "source": [
    "In real-life, you'd pick a board depending on how you want to share the data.\n",
    "Here are a few options:"
   ]
  },
  {
   "cell_type": "code",
   "execution_count": 3,
   "id": "46a59182",
   "metadata": {
    "execution": {
     "iopub.execute_input": "2022-03-23T15:28:34.993724Z",
     "iopub.status.busy": "2022-03-23T15:28:34.993418Z",
     "iopub.status.idle": "2022-03-23T15:28:34.996133Z",
     "shell.execute_reply": "2022-03-23T15:28:34.995618Z"
    }
   },
   "outputs": [],
   "source": [
    "# TODO\n",
    "# board <- board_local() # share data across R sessions on the same computer\n",
    "# board <- board_folder(\"~/Dropbox\") # share data with others using dropbox\n",
    "# board <- board_folder(\"Z:\\\\my-team\\pins\") # share data using a shared network drive\n",
    "# board <- board_rsconnect() # share data with RStudio Connect"
   ]
  },
  {
   "cell_type": "markdown",
   "id": "db5c1829",
   "metadata": {},
   "source": [
    "## Reading and writing data\n",
    "\n",
    "Once you have a pin board, you can write data to it with `pin_write()`:"
   ]
  },
  {
   "cell_type": "code",
   "execution_count": 4,
   "id": "07ee85a4",
   "metadata": {
    "execution": {
     "iopub.execute_input": "2022-03-23T15:28:34.999080Z",
     "iopub.status.busy": "2022-03-23T15:28:34.998920Z",
     "iopub.status.idle": "2022-03-23T15:28:35.426343Z",
     "shell.execute_reply": "2022-03-23T15:28:35.425858Z"
    }
   },
   "outputs": [
    {
     "data": {
      "text/plain": [
       "Meta(title='A pinned 32 x 11 CSV', description=None, created='20220323T152835Z', pin_hash='7f10d4e9942bb928', file='mtcars', file_size=1420, type='csv', api_version=1, version=Version(created=datetime.datetime(2022, 3, 23, 15, 28, 35, 414110), hash='7f10d4e9942bb928'), name='mtcars', user={})"
      ]
     },
     "execution_count": 4,
     "metadata": {},
     "output_type": "execute_result"
    }
   ],
   "source": [
    "from siuba.data import mtcars\n",
    "board.pin_write(mtcars, \"mtcars\", type=\"csv\")"
   ]
  },
  {
   "cell_type": "markdown",
   "id": "0331d127",
   "metadata": {},
   "source": [
    "The first argument is the object to save (usually a data frame, but it can be any R object), and the second argument gives the \"name\" of the pin.\n",
    "The name is basically equivalent to a file name: you'll use it when you later want to read the data from the pin.\n",
    "The only rule for a pin name is that it can't contain slashes."
   ]
  }
 ],
 "metadata": {
  "jupytext": {
   "cell_metadata_filter": "-all",
   "main_language": "python",
   "notebook_metadata_filter": "-all",
   "text_representation": {
    "extension": ".Rmd",
    "format_name": "rmarkdown"
   }
  },
  "language_info": {
   "codemirror_mode": {
    "name": "ipython",
    "version": 3
   },
   "file_extension": ".py",
   "mimetype": "text/x-python",
   "name": "python",
   "nbconvert_exporter": "python",
   "pygments_lexer": "ipython3",
   "version": "3.8.12"
  }
 },
 "nbformat": 4,
 "nbformat_minor": 5
}
