{
 "cells": [
  {
   "cell_type": "code",
   "execution_count": 1,
   "id": "cfc3aa23",
   "metadata": {
    "execution": {
     "iopub.execute_input": "2022-04-05T22:34:03.320407Z",
     "iopub.status.busy": "2022-04-05T22:34:03.320037Z",
     "iopub.status.idle": "2022-04-05T22:34:03.638438Z",
     "shell.execute_reply": "2022-04-05T22:34:03.637739Z"
    },
    "nbsphinx": "hidden",
    "tags": []
   },
   "outputs": [],
   "source": [
    "import pandas as pd\n",
    "pd.options.display.max_rows = 25"
   ]
  },
  {
   "cell_type": "markdown",
   "id": "92a89bf5",
   "metadata": {},
   "source": [
    "Getting Started\n",
    "===============\n",
    "\n",
    "The pins package helps you publish data sets, models, and other R objects, making it easy to share them across projects and with your colleagues.\n",
    "You can pin objects to a variety of \"boards\", including local folders (to share on a networked drive or with dropbox), RStudio connect, Amazon S3, and more.\n",
    "This vignette will introduce you to the basics of pins."
   ]
  },
  {
   "cell_type": "code",
   "execution_count": 2,
   "id": "d8b73a73",
   "metadata": {
    "execution": {
     "iopub.execute_input": "2022-04-05T22:34:03.641646Z",
     "iopub.status.busy": "2022-04-05T22:34:03.641350Z",
     "iopub.status.idle": "2022-04-05T22:34:03.697437Z",
     "shell.execute_reply": "2022-04-05T22:34:03.696481Z"
    }
   },
   "outputs": [],
   "source": [
    "from pins import board_local, board_folder, board_temp, board_urls"
   ]
  },
  {
   "cell_type": "markdown",
   "id": "cfca2a07",
   "metadata": {},
   "source": [
    "## Getting started\n",
    "\n",
    "Every pin lives in a pin *board*, so you must start by creating a pin board.\n",
    "In this vignette I'll use a temporary board which is automatically deleted when your python session is over:"
   ]
  },
  {
   "cell_type": "code",
   "execution_count": 3,
   "id": "6ceeb7f9",
   "metadata": {
    "execution": {
     "iopub.execute_input": "2022-04-05T22:34:03.700467Z",
     "iopub.status.busy": "2022-04-05T22:34:03.700121Z",
     "iopub.status.idle": "2022-04-05T22:34:03.703904Z",
     "shell.execute_reply": "2022-04-05T22:34:03.703300Z"
    }
   },
   "outputs": [],
   "source": [
    "board = board_temp()"
   ]
  },
  {
   "cell_type": "markdown",
   "id": "cbeb9060",
   "metadata": {},
   "source": [
    "In real-life, you'd pick a board depending on how you want to share the data.\n",
    "Here are a few options:"
   ]
  },
  {
   "cell_type": "markdown",
   "id": "2a31ea2b",
   "metadata": {},
   "source": [
    "```python\n",
    "board = board_local() # share data across R sessions on the same computer\n",
    "board = board_folder(\"~/Dropbox\") # share data with others using dropbox\n",
    "board = board_folder(\"Z:\\\\my-team\\pins\") # share data using a shared network drive\n",
    "board = board_rsconnect() # share data with RStudio Connect\n",
    "```"
   ]
  },
  {
   "cell_type": "markdown",
   "id": "0d059001",
   "metadata": {},
   "source": [
    "## Reading and writing data\n",
    "\n",
    "Once you have a pin board, you can write data to it with `pin_write()`:"
   ]
  },
  {
   "cell_type": "code",
   "execution_count": 4,
   "id": "fe9821c3",
   "metadata": {
    "execution": {
     "iopub.execute_input": "2022-04-05T22:34:03.706532Z",
     "iopub.status.busy": "2022-04-05T22:34:03.706265Z",
     "iopub.status.idle": "2022-04-05T22:34:03.718123Z",
     "shell.execute_reply": "2022-04-05T22:34:03.717603Z"
    }
   },
   "outputs": [],
   "source": [
    "from pins.data import mtcars\n",
    "\n",
    "meta = board.pin_write(mtcars, \"mtcars\", type=\"csv\")"
   ]
  },
  {
   "cell_type": "markdown",
   "id": "13ab2d4b",
   "metadata": {},
   "source": [
    "The first argument is the object to save (usually a data frame, but it can be any R object), and the second argument gives the \"name\" of the pin.\n",
    "The name is basically equivalent to a file name: you'll use it when you later want to read the data from the pin.\n",
    "The only rule for a pin name is that it can't contain slashes."
   ]
  },
  {
   "cell_type": "markdown",
   "id": "7c6141fe",
   "metadata": {},
   "source": [
    "As you can see from the output, pins has chosen to save this data to an `.rds` file.\n",
    "But you can choose another option depending on your goals:\n",
    "\n",
    "-   `type = \"csv\"` uses `write.csv()` to create a `.csv` file. CSVs can read by any application, but only support simple columns (e.g. numbers, strings, dates), can take up a lot of disk space, and can be slow to read.\n",
    "-   `type = \"joblib\"` uses `joblib.dump()` to create a binary python data file. See the [joblib docs](https://joblib.readthedocs.io/en/latest/) for more information.\n",
    "\n",
    "🚧 Data formats TODO 🚧\n",
    "\n",
    "-   `type = \"arrow\"` uses `arrow::write_feather()` to create an arrow/feather file. [Arrow](https://arrow.apache.org) is a modern, language-independent, high-performance file format designed for data science. Not every tool can read arrow files, but support is growing rapidly.\n",
    "-   `type = \"json\"` uses `jsonlite::write_json()` to create a `.json` file. Pretty much every programming language can read json files, but they only work well for nested lists.\n",
    "\n",
    "After you've pinned an object, you can read it back with `pin_read()`:"
   ]
  },
  {
   "cell_type": "code",
   "execution_count": 5,
   "id": "8ab0da16",
   "metadata": {
    "execution": {
     "iopub.execute_input": "2022-04-05T22:34:03.720800Z",
     "iopub.status.busy": "2022-04-05T22:34:03.720461Z",
     "iopub.status.idle": "2022-04-05T22:34:03.744529Z",
     "shell.execute_reply": "2022-04-05T22:34:03.744007Z"
    }
   },
   "outputs": [
    {
     "data": {
      "text/html": [
       "<div>\n",
       "<style scoped>\n",
       "    .dataframe tbody tr th:only-of-type {\n",
       "        vertical-align: middle;\n",
       "    }\n",
       "\n",
       "    .dataframe tbody tr th {\n",
       "        vertical-align: top;\n",
       "    }\n",
       "\n",
       "    .dataframe thead th {\n",
       "        text-align: right;\n",
       "    }\n",
       "</style>\n",
       "<table border=\"1\" class=\"dataframe\">\n",
       "  <thead>\n",
       "    <tr style=\"text-align: right;\">\n",
       "      <th></th>\n",
       "      <th>mpg</th>\n",
       "      <th>cyl</th>\n",
       "      <th>disp</th>\n",
       "      <th>hp</th>\n",
       "      <th>drat</th>\n",
       "      <th>wt</th>\n",
       "      <th>qsec</th>\n",
       "      <th>vs</th>\n",
       "      <th>am</th>\n",
       "      <th>gear</th>\n",
       "      <th>carb</th>\n",
       "    </tr>\n",
       "  </thead>\n",
       "  <tbody>\n",
       "    <tr>\n",
       "      <th>0</th>\n",
       "      <td>21.0</td>\n",
       "      <td>6</td>\n",
       "      <td>160.0</td>\n",
       "      <td>110</td>\n",
       "      <td>3.90</td>\n",
       "      <td>2.620</td>\n",
       "      <td>16.46</td>\n",
       "      <td>0</td>\n",
       "      <td>1</td>\n",
       "      <td>4</td>\n",
       "      <td>4</td>\n",
       "    </tr>\n",
       "    <tr>\n",
       "      <th>1</th>\n",
       "      <td>21.0</td>\n",
       "      <td>6</td>\n",
       "      <td>160.0</td>\n",
       "      <td>110</td>\n",
       "      <td>3.90</td>\n",
       "      <td>2.875</td>\n",
       "      <td>17.02</td>\n",
       "      <td>0</td>\n",
       "      <td>1</td>\n",
       "      <td>4</td>\n",
       "      <td>4</td>\n",
       "    </tr>\n",
       "    <tr>\n",
       "      <th>2</th>\n",
       "      <td>22.8</td>\n",
       "      <td>4</td>\n",
       "      <td>108.0</td>\n",
       "      <td>93</td>\n",
       "      <td>3.85</td>\n",
       "      <td>2.320</td>\n",
       "      <td>18.61</td>\n",
       "      <td>1</td>\n",
       "      <td>1</td>\n",
       "      <td>4</td>\n",
       "      <td>1</td>\n",
       "    </tr>\n",
       "    <tr>\n",
       "      <th>3</th>\n",
       "      <td>21.4</td>\n",
       "      <td>6</td>\n",
       "      <td>258.0</td>\n",
       "      <td>110</td>\n",
       "      <td>3.08</td>\n",
       "      <td>3.215</td>\n",
       "      <td>19.44</td>\n",
       "      <td>1</td>\n",
       "      <td>0</td>\n",
       "      <td>3</td>\n",
       "      <td>1</td>\n",
       "    </tr>\n",
       "    <tr>\n",
       "      <th>4</th>\n",
       "      <td>18.7</td>\n",
       "      <td>8</td>\n",
       "      <td>360.0</td>\n",
       "      <td>175</td>\n",
       "      <td>3.15</td>\n",
       "      <td>3.440</td>\n",
       "      <td>17.02</td>\n",
       "      <td>0</td>\n",
       "      <td>0</td>\n",
       "      <td>3</td>\n",
       "      <td>2</td>\n",
       "    </tr>\n",
       "    <tr>\n",
       "      <th>...</th>\n",
       "      <td>...</td>\n",
       "      <td>...</td>\n",
       "      <td>...</td>\n",
       "      <td>...</td>\n",
       "      <td>...</td>\n",
       "      <td>...</td>\n",
       "      <td>...</td>\n",
       "      <td>...</td>\n",
       "      <td>...</td>\n",
       "      <td>...</td>\n",
       "      <td>...</td>\n",
       "    </tr>\n",
       "    <tr>\n",
       "      <th>27</th>\n",
       "      <td>30.4</td>\n",
       "      <td>4</td>\n",
       "      <td>95.1</td>\n",
       "      <td>113</td>\n",
       "      <td>3.77</td>\n",
       "      <td>1.513</td>\n",
       "      <td>16.90</td>\n",
       "      <td>1</td>\n",
       "      <td>1</td>\n",
       "      <td>5</td>\n",
       "      <td>2</td>\n",
       "    </tr>\n",
       "    <tr>\n",
       "      <th>28</th>\n",
       "      <td>15.8</td>\n",
       "      <td>8</td>\n",
       "      <td>351.0</td>\n",
       "      <td>264</td>\n",
       "      <td>4.22</td>\n",
       "      <td>3.170</td>\n",
       "      <td>14.50</td>\n",
       "      <td>0</td>\n",
       "      <td>1</td>\n",
       "      <td>5</td>\n",
       "      <td>4</td>\n",
       "    </tr>\n",
       "    <tr>\n",
       "      <th>29</th>\n",
       "      <td>19.7</td>\n",
       "      <td>6</td>\n",
       "      <td>145.0</td>\n",
       "      <td>175</td>\n",
       "      <td>3.62</td>\n",
       "      <td>2.770</td>\n",
       "      <td>15.50</td>\n",
       "      <td>0</td>\n",
       "      <td>1</td>\n",
       "      <td>5</td>\n",
       "      <td>6</td>\n",
       "    </tr>\n",
       "    <tr>\n",
       "      <th>30</th>\n",
       "      <td>15.0</td>\n",
       "      <td>8</td>\n",
       "      <td>301.0</td>\n",
       "      <td>335</td>\n",
       "      <td>3.54</td>\n",
       "      <td>3.570</td>\n",
       "      <td>14.60</td>\n",
       "      <td>0</td>\n",
       "      <td>1</td>\n",
       "      <td>5</td>\n",
       "      <td>8</td>\n",
       "    </tr>\n",
       "    <tr>\n",
       "      <th>31</th>\n",
       "      <td>21.4</td>\n",
       "      <td>4</td>\n",
       "      <td>121.0</td>\n",
       "      <td>109</td>\n",
       "      <td>4.11</td>\n",
       "      <td>2.780</td>\n",
       "      <td>18.60</td>\n",
       "      <td>1</td>\n",
       "      <td>1</td>\n",
       "      <td>4</td>\n",
       "      <td>2</td>\n",
       "    </tr>\n",
       "  </tbody>\n",
       "</table>\n",
       "<p>32 rows × 11 columns</p>\n",
       "</div>"
      ],
      "text/plain": [
       "     mpg  cyl   disp   hp  drat     wt   qsec  vs  am  gear  carb\n",
       "0   21.0    6  160.0  110  3.90  2.620  16.46   0   1     4     4\n",
       "1   21.0    6  160.0  110  3.90  2.875  17.02   0   1     4     4\n",
       "2   22.8    4  108.0   93  3.85  2.320  18.61   1   1     4     1\n",
       "3   21.4    6  258.0  110  3.08  3.215  19.44   1   0     3     1\n",
       "4   18.7    8  360.0  175  3.15  3.440  17.02   0   0     3     2\n",
       "..   ...  ...    ...  ...   ...    ...    ...  ..  ..   ...   ...\n",
       "27  30.4    4   95.1  113  3.77  1.513  16.90   1   1     5     2\n",
       "28  15.8    8  351.0  264  4.22  3.170  14.50   0   1     5     4\n",
       "29  19.7    6  145.0  175  3.62  2.770  15.50   0   1     5     6\n",
       "30  15.0    8  301.0  335  3.54  3.570  14.60   0   1     5     8\n",
       "31  21.4    4  121.0  109  4.11  2.780  18.60   1   1     4     2\n",
       "\n",
       "[32 rows x 11 columns]"
      ]
     },
     "execution_count": 5,
     "metadata": {},
     "output_type": "execute_result"
    }
   ],
   "source": [
    "board.pin_read(\"mtcars\")"
   ]
  },
  {
   "cell_type": "markdown",
   "id": "d59c0995",
   "metadata": {},
   "source": [
    "You don't need to supply the file type when reading data from a pin because pins automatically stores the file type in the metadata, the topic of the next section.\n",
    "\n",
    "Note that when the data lives elsewhere, pins takes care of downloading and caching so that it's only re-downloaded when needed.\n",
    "That said, most boards transmit pins over HTTP, and this is going to be slow and possibly unreliable for very large pins.\n",
    "As a general rule of thumb, we don't recommend using pins with files over 500 MB.\n",
    "If you find yourself routinely pinning data larger that this, you might need to reconsider your data engineering pipeline."
   ]
  },
  {
   "cell_type": "markdown",
   "id": "57e7eccc",
   "metadata": {},
   "source": [
    "## Metadata"
   ]
  },
  {
   "cell_type": "markdown",
   "id": "bc9454bb",
   "metadata": {},
   "source": [
    "Every pin is accompanied by some metadata that you can access with pin_meta():"
   ]
  },
  {
   "cell_type": "code",
   "execution_count": 6,
   "id": "4197d2f1",
   "metadata": {
    "execution": {
     "iopub.execute_input": "2022-04-05T22:34:03.748137Z",
     "iopub.status.busy": "2022-04-05T22:34:03.747872Z",
     "iopub.status.idle": "2022-04-05T22:34:03.753278Z",
     "shell.execute_reply": "2022-04-05T22:34:03.752752Z"
    }
   },
   "outputs": [
    {
     "data": {
      "text/plain": [
       "Meta(title='A pinned 32 x 11 CSV', description=None, created='20220405T223403Z', pin_hash='7f10d4e9942bb928', file='mtcars', file_size=1420, type='csv', api_version=1, version=Version(created=datetime.datetime(2022, 4, 5, 22, 34, 3), hash='7f10d'), name='mtcars', user={})"
      ]
     },
     "execution_count": 6,
     "metadata": {},
     "output_type": "execute_result"
    }
   ],
   "source": [
    "board.pin_meta(\"mtcars\")"
   ]
  },
  {
   "cell_type": "markdown",
   "id": "316a3dce",
   "metadata": {},
   "source": [
    "This shows you the metadata that’s generated by default. This includes:\n",
    "\n",
    "* `title`, a brief textual description of the dataset.\n",
    "* an optional `description`, where you can provide more details.\n",
    "* the date-time when the pin was `created`.\n",
    "* the `file_size`, in bytes, of the underlying files.\n",
    "* a unique `pin_hash` that you can supply to `pin_read()` to ensure that you’re reading exactly the data that you expect.\n",
    "\n",
    "When creating the pin, you can override the default description or provide additional metadata that is stored with the data:"
   ]
  },
  {
   "cell_type": "code",
   "execution_count": 7,
   "id": "b566f3b0",
   "metadata": {
    "execution": {
     "iopub.execute_input": "2022-04-05T22:34:03.755735Z",
     "iopub.status.busy": "2022-04-05T22:34:03.755474Z",
     "iopub.status.idle": "2022-04-05T22:34:03.763058Z",
     "shell.execute_reply": "2022-04-05T22:34:03.762555Z"
    }
   },
   "outputs": [
    {
     "data": {
      "text/plain": [
       "Meta(title='A pinned 32 x 11 CSV', description='Data extracted from the 1974 Motor Trend US magazine, and comprises fuel consumption and 10 aspects of automobile design and performance for 32 automobiles (1973–74 models).', created='20220405T223403Z', pin_hash='7f10d4e9942bb928', file='mtcars2', file_size=1420, type='csv', api_version=1, version=Version(created=datetime.datetime(2022, 4, 5, 22, 34, 3, 758270), hash='7f10d4e9942bb928'), name='mtcars2', user={'source': 'Henderson and Velleman (1981), Building multiple regression models interactively. Biometrics, 37, 391–411.'})"
      ]
     },
     "execution_count": 7,
     "metadata": {},
     "output_type": "execute_result"
    }
   ],
   "source": [
    "board.pin_write(\n",
    "    mtcars,\n",
    "    name=\"mtcars2\",\n",
    "    type=\"csv\",\n",
    "    description = \"Data extracted from the 1974 Motor Trend US magazine, and comprises fuel consumption and 10 aspects of automobile design and performance for 32 automobiles (1973–74 models).\",\n",
    "    metadata = {\n",
    "        \"source\": \"Henderson and Velleman (1981), Building multiple regression models interactively. Biometrics, 37, 391–411.\"\n",
    "    }\n",
    ")"
   ]
  },
  {
   "cell_type": "code",
   "execution_count": 8,
   "id": "6bb65da5",
   "metadata": {
    "execution": {
     "iopub.execute_input": "2022-04-05T22:34:03.765333Z",
     "iopub.status.busy": "2022-04-05T22:34:03.765079Z",
     "iopub.status.idle": "2022-04-05T22:34:03.770372Z",
     "shell.execute_reply": "2022-04-05T22:34:03.769873Z"
    }
   },
   "outputs": [
    {
     "data": {
      "text/plain": [
       "Meta(title='A pinned 32 x 11 CSV', description=None, created='20220405T223403Z', pin_hash='7f10d4e9942bb928', file='mtcars', file_size=1420, type='csv', api_version=1, version=Version(created=datetime.datetime(2022, 4, 5, 22, 34, 3), hash='7f10d'), name='mtcars', user={})"
      ]
     },
     "execution_count": 8,
     "metadata": {},
     "output_type": "execute_result"
    }
   ],
   "source": [
    "board.pin_meta(\"mtcars\")"
   ]
  },
  {
   "cell_type": "markdown",
   "id": "5826903d",
   "metadata": {},
   "source": [
    "While we’ll do our best to keep the automatically generated metadata consistent over time, I’d recommend manually capturing anything you really care about in metadata."
   ]
  },
  {
   "cell_type": "markdown",
   "id": "1baef12c",
   "metadata": {},
   "source": [
    "## 🚧 Versioning"
   ]
  },
  {
   "cell_type": "markdown",
   "id": "328b8478",
   "metadata": {},
   "source": [
    "> ⚠️: versioning is not yet implemented. These docs are copied from R pins.\n",
    "\n",
    "In many situations it's useful to version pins, so that writing to an existing pin does not replace the existing data, but instead adds a new copy.\n",
    "There are two ways to turn versioning on:\n",
    "\n",
    "-   When you create a board you can turn versioning on for every pin in that board:\n",
    "\n",
    "    ```python\n",
    "    board2 = board_temp(versioned = TRUE)\n",
    "    ```\n",
    "\n",
    "-   When you write a pin, you can specifically request that versioning be turned on for that pin:\n",
    "\n",
    "    ```python\n",
    "    board2 = board_temp()\n",
    "    board2.pin_write(mtcars, versioned = TRUE)\n",
    "    ```\n",
    "\n",
    "Most boards have versioning on by default.\n",
    "The primary exception is `board_folder()` since that stores data on your computer, and there's no automated way to clean up the data your saving.\n",
    "\n",
    "Once you have turned versioning on, every `pin_write()` will create a new version:"
   ]
  },
  {
   "cell_type": "code",
   "execution_count": 9,
   "id": "1eab6cb5",
   "metadata": {
    "execution": {
     "iopub.execute_input": "2022-04-05T22:34:03.772962Z",
     "iopub.status.busy": "2022-04-05T22:34:03.772627Z",
     "iopub.status.idle": "2022-04-05T22:34:03.867542Z",
     "shell.execute_reply": "2022-04-05T22:34:03.866304Z"
    }
   },
   "outputs": [
    {
     "data": {
      "text/html": [
       "<div>\n",
       "<style scoped>\n",
       "    .dataframe tbody tr th:only-of-type {\n",
       "        vertical-align: middle;\n",
       "    }\n",
       "\n",
       "    .dataframe tbody tr th {\n",
       "        vertical-align: top;\n",
       "    }\n",
       "\n",
       "    .dataframe thead th {\n",
       "        text-align: right;\n",
       "    }\n",
       "</style>\n",
       "<table border=\"1\" class=\"dataframe\">\n",
       "  <thead>\n",
       "    <tr style=\"text-align: right;\">\n",
       "      <th></th>\n",
       "      <th>created</th>\n",
       "      <th>hash</th>\n",
       "      <th>version</th>\n",
       "    </tr>\n",
       "  </thead>\n",
       "  <tbody>\n",
       "    <tr>\n",
       "      <th>0</th>\n",
       "      <td>2022-04-05 22:34:03</td>\n",
       "      <td>91544</td>\n",
       "      <td>20220405T223403Z-91544</td>\n",
       "    </tr>\n",
       "    <tr>\n",
       "      <th>1</th>\n",
       "      <td>2022-04-05 22:34:03</td>\n",
       "      <td>40b4b</td>\n",
       "      <td>20220405T223403Z-40b4b</td>\n",
       "    </tr>\n",
       "    <tr>\n",
       "      <th>2</th>\n",
       "      <td>2022-04-05 22:34:03</td>\n",
       "      <td>331fd</td>\n",
       "      <td>20220405T223403Z-331fd</td>\n",
       "    </tr>\n",
       "  </tbody>\n",
       "</table>\n",
       "</div>"
      ],
      "text/plain": [
       "              created   hash                 version\n",
       "0 2022-04-05 22:34:03  91544  20220405T223403Z-91544\n",
       "1 2022-04-05 22:34:03  40b4b  20220405T223403Z-40b4b\n",
       "2 2022-04-05 22:34:03  331fd  20220405T223403Z-331fd"
      ]
     },
     "execution_count": 9,
     "metadata": {},
     "output_type": "execute_result"
    }
   ],
   "source": [
    "# TODO: can save lists using joblib, but should warn about security\n",
    "\n",
    "board2 = board_temp(versioned = True)\n",
    "board2.pin_write([1,2,3,4,5], name = \"x\", type = \"joblib\", title=\"TODO\")\n",
    "board2.pin_write([1,2,3], name = \"x\", type = \"joblib\", title=\"TODO\")\n",
    "board2.pin_write([1,2], name = \"x\", type = \"joblib\", title=\"TODO\")\n",
    "board2.pin_versions(\"x\")"
   ]
  },
  {
   "cell_type": "markdown",
   "id": "fd796d6a",
   "metadata": {},
   "source": [
    "By default, `pin_read()` will return the most recent version:"
   ]
  },
  {
   "cell_type": "code",
   "execution_count": 10,
   "id": "0a33938d",
   "metadata": {
    "execution": {
     "iopub.execute_input": "2022-04-05T22:34:03.870120Z",
     "iopub.status.busy": "2022-04-05T22:34:03.869961Z",
     "iopub.status.idle": "2022-04-05T22:34:03.875514Z",
     "shell.execute_reply": "2022-04-05T22:34:03.875003Z"
    }
   },
   "outputs": [
    {
     "data": {
      "text/plain": [
       "[1, 2, 3]"
      ]
     },
     "execution_count": 10,
     "metadata": {},
     "output_type": "execute_result"
    }
   ],
   "source": [
    "board2.pin_read(\"x\")"
   ]
  },
  {
   "cell_type": "markdown",
   "id": "b629c2e4",
   "metadata": {},
   "source": [
    "But you can request an older version by supplying the `version` argument:"
   ]
  },
  {
   "cell_type": "code",
   "execution_count": 11,
   "id": "9a15889a",
   "metadata": {
    "execution": {
     "iopub.execute_input": "2022-04-05T22:34:03.878392Z",
     "iopub.status.busy": "2022-04-05T22:34:03.877999Z",
     "iopub.status.idle": "2022-04-05T22:34:03.885281Z",
     "shell.execute_reply": "2022-04-05T22:34:03.884785Z"
    }
   },
   "outputs": [
    {
     "data": {
      "text/plain": [
       "[1, 2]"
      ]
     },
     "execution_count": 11,
     "metadata": {},
     "output_type": "execute_result"
    }
   ],
   "source": [
    "version = board2.pin_versions(\"x\").version[1]\n",
    "board2.pin_read(\"x\", version = version)"
   ]
  },
  {
   "cell_type": "markdown",
   "id": "545b261a",
   "metadata": {},
   "source": [
    "## 🚧 Reading and writing files"
   ]
  },
  {
   "cell_type": "markdown",
   "id": "ad5d6f56",
   "metadata": {},
   "source": [
    "So far we've focussed on `pin_write()` and `pin_read()` which work with R objects.\n",
    "pins also provides the lower-level `pin_upload()` and `pin_download()` which work with files on disk.\n",
    "You can use them to share types of data that are otherwise unsupported by pins.\n",
    "\n",
    "`pin_upload()` works like `pin_write()` but instead of an R object you give it a vector of paths.\n",
    "I'll start by creating a few files in the temp directory:\n"
   ]
  },
  {
   "cell_type": "code",
   "execution_count": 12,
   "id": "373ffdc8",
   "metadata": {
    "execution": {
     "iopub.execute_input": "2022-04-05T22:34:03.887676Z",
     "iopub.status.busy": "2022-04-05T22:34:03.887437Z",
     "iopub.status.idle": "2022-04-05T22:34:03.890122Z",
     "shell.execute_reply": "2022-04-05T22:34:03.889505Z"
    }
   },
   "outputs": [],
   "source": [
    "# paths = file.path(tempdir(), c(\"mtcars.csv\", \"alphabet.txt\"))\n",
    "# write.csv(mtcars, paths[[1]])\n",
    "# writeLines(letters, paths[[2]])"
   ]
  },
  {
   "cell_type": "markdown",
   "id": "1c4dcbd0",
   "metadata": {},
   "source": [
    "Now I can upload those to the board:"
   ]
  },
  {
   "cell_type": "code",
   "execution_count": 13,
   "id": "5cc99e40",
   "metadata": {
    "execution": {
     "iopub.execute_input": "2022-04-05T22:34:03.892418Z",
     "iopub.status.busy": "2022-04-05T22:34:03.892140Z",
     "iopub.status.idle": "2022-04-05T22:34:03.894740Z",
     "shell.execute_reply": "2022-04-05T22:34:03.894191Z"
    }
   },
   "outputs": [],
   "source": [
    "# board.pin_upload(paths, \"example\")"
   ]
  },
  {
   "cell_type": "markdown",
   "id": "8db6ad30",
   "metadata": {},
   "source": [
    "`pin_download()` returns a vector of paths:"
   ]
  },
  {
   "cell_type": "code",
   "execution_count": 14,
   "id": "d2a1a647",
   "metadata": {
    "execution": {
     "iopub.execute_input": "2022-04-05T22:34:03.897221Z",
     "iopub.status.busy": "2022-04-05T22:34:03.896891Z",
     "iopub.status.idle": "2022-04-05T22:34:03.899538Z",
     "shell.execute_reply": "2022-04-05T22:34:03.898894Z"
    },
    "lines_to_next_cell": 2
   },
   "outputs": [],
   "source": [
    "# board.pin_download(\"example\")"
   ]
  },
  {
   "cell_type": "markdown",
   "id": "6ea5a5bc",
   "metadata": {},
   "source": [
    "You should treat these paths as internal implementation details --- never modify them and never save them for use outside of pins.\n",
    "\n",
    "Note that you can't `pin_read()` something you pinned with `pin_upload()`:\n"
   ]
  },
  {
   "cell_type": "code",
   "execution_count": 15,
   "id": "ad0b0b4f",
   "metadata": {
    "execution": {
     "iopub.execute_input": "2022-04-05T22:34:03.901925Z",
     "iopub.status.busy": "2022-04-05T22:34:03.901595Z",
     "iopub.status.idle": "2022-04-05T22:34:03.904253Z",
     "shell.execute_reply": "2022-04-05T22:34:03.903599Z"
    }
   },
   "outputs": [],
   "source": [
    "# board.pin_read(\"example\")"
   ]
  },
  {
   "cell_type": "markdown",
   "id": "5ec1c173",
   "metadata": {},
   "source": [
    "But you can `pin_download()` something that you've pinned with `pin_write()`:"
   ]
  },
  {
   "cell_type": "code",
   "execution_count": 16,
   "id": "76324a11",
   "metadata": {
    "execution": {
     "iopub.execute_input": "2022-04-05T22:34:03.906675Z",
     "iopub.status.busy": "2022-04-05T22:34:03.906281Z",
     "iopub.status.idle": "2022-04-05T22:34:03.908957Z",
     "shell.execute_reply": "2022-04-05T22:34:03.908321Z"
    }
   },
   "outputs": [],
   "source": [
    "# board.pin_download(\"mtcars\")"
   ]
  },
  {
   "cell_type": "markdown",
   "id": "74f25430",
   "metadata": {},
   "source": [
    "## Caching"
   ]
  },
  {
   "cell_type": "markdown",
   "id": "7092ba70",
   "metadata": {},
   "source": [
    "The primary purpose of pins is to make it easy to share data.\n",
    "But pins is also designed to help you spend as little time as possible downloading data.\n",
    "`pin_read()` and `pin_download()` automatically cache remote pins: they maintain a local copy of the data (so it's fast) but always check that it's up-to-date (so your analysis doesn't use stale data).\n",
    "\n",
    "Wouldn't it be nice if you could take advantage of this feature for any dataset on the internet?\n",
    "That's the idea behind `board_url()` --- you can assemble your own board from datasets, wherever they live on the internet.\n",
    "For example, this code creates a board containing a single pin, `penguins`, that refers to some fun data I found on GitHub:"
   ]
  },
  {
   "cell_type": "code",
   "execution_count": 17,
   "id": "b5822196",
   "metadata": {
    "execution": {
     "iopub.execute_input": "2022-04-05T22:34:03.911483Z",
     "iopub.status.busy": "2022-04-05T22:34:03.911152Z",
     "iopub.status.idle": "2022-04-05T22:34:04.015671Z",
     "shell.execute_reply": "2022-04-05T22:34:04.014916Z"
    }
   },
   "outputs": [],
   "source": [
    "my_data = board_urls(\"\", {\n",
    "  \"penguins\": \"https://raw.githubusercontent.com/allisonhorst/palmerpenguins/master/inst/extdata/penguins_raw.csv\"\n",
    "})"
   ]
  },
  {
   "cell_type": "markdown",
   "id": "6ad73558",
   "metadata": {},
   "source": [
    "You can read this data by combining `pin_download()` with `read.csv()`[^1]:\n",
    "\n",
    "[^1]: Here I'm using `read.csv()` to the reduce the dependencies of the pins package.\n",
    "    For real code I'd recommend using `data.table::fread()` or `readr::read_csv().`"
   ]
  },
  {
   "cell_type": "code",
   "execution_count": 18,
   "id": "34afd8e5",
   "metadata": {
    "execution": {
     "iopub.execute_input": "2022-04-05T22:34:04.018369Z",
     "iopub.status.busy": "2022-04-05T22:34:04.018102Z",
     "iopub.status.idle": "2022-04-05T22:34:04.052795Z",
     "shell.execute_reply": "2022-04-05T22:34:04.052269Z"
    }
   },
   "outputs": [
    {
     "data": {
      "text/plain": [
       "['/home/runner/.cache/pins-py/http_e6ac0d2da33fad7e72df6b900933a691b89ed7d54ec0e4a36fe45c32d7e2f67e/v/penguins_raw.csv']"
      ]
     },
     "execution_count": 18,
     "metadata": {},
     "output_type": "execute_result"
    }
   ],
   "source": [
    "fname = my_data.pin_download(\"penguins\")\n",
    "\n",
    "fname\n"
   ]
  },
  {
   "cell_type": "code",
   "execution_count": 19,
   "id": "8aeb257f",
   "metadata": {
    "execution": {
     "iopub.execute_input": "2022-04-05T22:34:04.055708Z",
     "iopub.status.busy": "2022-04-05T22:34:04.055347Z",
     "iopub.status.idle": "2022-04-05T22:34:04.075518Z",
     "shell.execute_reply": "2022-04-05T22:34:04.075067Z"
    }
   },
   "outputs": [
    {
     "data": {
      "text/html": [
       "<div>\n",
       "<style scoped>\n",
       "    .dataframe tbody tr th:only-of-type {\n",
       "        vertical-align: middle;\n",
       "    }\n",
       "\n",
       "    .dataframe tbody tr th {\n",
       "        vertical-align: top;\n",
       "    }\n",
       "\n",
       "    .dataframe thead th {\n",
       "        text-align: right;\n",
       "    }\n",
       "</style>\n",
       "<table border=\"1\" class=\"dataframe\">\n",
       "  <thead>\n",
       "    <tr style=\"text-align: right;\">\n",
       "      <th></th>\n",
       "      <th>studyName</th>\n",
       "      <th>Sample Number</th>\n",
       "      <th>Species</th>\n",
       "      <th>Region</th>\n",
       "      <th>Island</th>\n",
       "      <th>Stage</th>\n",
       "      <th>Individual ID</th>\n",
       "      <th>Clutch Completion</th>\n",
       "      <th>Date Egg</th>\n",
       "      <th>Culmen Length (mm)</th>\n",
       "      <th>Culmen Depth (mm)</th>\n",
       "      <th>Flipper Length (mm)</th>\n",
       "      <th>Body Mass (g)</th>\n",
       "      <th>Sex</th>\n",
       "      <th>Delta 15 N (o/oo)</th>\n",
       "      <th>Delta 13 C (o/oo)</th>\n",
       "      <th>Comments</th>\n",
       "    </tr>\n",
       "  </thead>\n",
       "  <tbody>\n",
       "    <tr>\n",
       "      <th>0</th>\n",
       "      <td>PAL0708</td>\n",
       "      <td>1</td>\n",
       "      <td>Adelie Penguin (Pygoscelis adeliae)</td>\n",
       "      <td>Anvers</td>\n",
       "      <td>Torgersen</td>\n",
       "      <td>Adult, 1 Egg Stage</td>\n",
       "      <td>N1A1</td>\n",
       "      <td>Yes</td>\n",
       "      <td>2007-11-11</td>\n",
       "      <td>39.1</td>\n",
       "      <td>18.7</td>\n",
       "      <td>181.0</td>\n",
       "      <td>3750.0</td>\n",
       "      <td>MALE</td>\n",
       "      <td>NaN</td>\n",
       "      <td>NaN</td>\n",
       "      <td>Not enough blood for isotopes.</td>\n",
       "    </tr>\n",
       "    <tr>\n",
       "      <th>1</th>\n",
       "      <td>PAL0708</td>\n",
       "      <td>2</td>\n",
       "      <td>Adelie Penguin (Pygoscelis adeliae)</td>\n",
       "      <td>Anvers</td>\n",
       "      <td>Torgersen</td>\n",
       "      <td>Adult, 1 Egg Stage</td>\n",
       "      <td>N1A2</td>\n",
       "      <td>Yes</td>\n",
       "      <td>2007-11-11</td>\n",
       "      <td>39.5</td>\n",
       "      <td>17.4</td>\n",
       "      <td>186.0</td>\n",
       "      <td>3800.0</td>\n",
       "      <td>FEMALE</td>\n",
       "      <td>8.94956</td>\n",
       "      <td>-24.69454</td>\n",
       "      <td>NaN</td>\n",
       "    </tr>\n",
       "    <tr>\n",
       "      <th>2</th>\n",
       "      <td>PAL0708</td>\n",
       "      <td>3</td>\n",
       "      <td>Adelie Penguin (Pygoscelis adeliae)</td>\n",
       "      <td>Anvers</td>\n",
       "      <td>Torgersen</td>\n",
       "      <td>Adult, 1 Egg Stage</td>\n",
       "      <td>N2A1</td>\n",
       "      <td>Yes</td>\n",
       "      <td>2007-11-16</td>\n",
       "      <td>40.3</td>\n",
       "      <td>18.0</td>\n",
       "      <td>195.0</td>\n",
       "      <td>3250.0</td>\n",
       "      <td>FEMALE</td>\n",
       "      <td>8.36821</td>\n",
       "      <td>-25.33302</td>\n",
       "      <td>NaN</td>\n",
       "    </tr>\n",
       "    <tr>\n",
       "      <th>3</th>\n",
       "      <td>PAL0708</td>\n",
       "      <td>4</td>\n",
       "      <td>Adelie Penguin (Pygoscelis adeliae)</td>\n",
       "      <td>Anvers</td>\n",
       "      <td>Torgersen</td>\n",
       "      <td>Adult, 1 Egg Stage</td>\n",
       "      <td>N2A2</td>\n",
       "      <td>Yes</td>\n",
       "      <td>2007-11-16</td>\n",
       "      <td>NaN</td>\n",
       "      <td>NaN</td>\n",
       "      <td>NaN</td>\n",
       "      <td>NaN</td>\n",
       "      <td>NaN</td>\n",
       "      <td>NaN</td>\n",
       "      <td>NaN</td>\n",
       "      <td>Adult not sampled.</td>\n",
       "    </tr>\n",
       "    <tr>\n",
       "      <th>4</th>\n",
       "      <td>PAL0708</td>\n",
       "      <td>5</td>\n",
       "      <td>Adelie Penguin (Pygoscelis adeliae)</td>\n",
       "      <td>Anvers</td>\n",
       "      <td>Torgersen</td>\n",
       "      <td>Adult, 1 Egg Stage</td>\n",
       "      <td>N3A1</td>\n",
       "      <td>Yes</td>\n",
       "      <td>2007-11-16</td>\n",
       "      <td>36.7</td>\n",
       "      <td>19.3</td>\n",
       "      <td>193.0</td>\n",
       "      <td>3450.0</td>\n",
       "      <td>FEMALE</td>\n",
       "      <td>8.76651</td>\n",
       "      <td>-25.32426</td>\n",
       "      <td>NaN</td>\n",
       "    </tr>\n",
       "  </tbody>\n",
       "</table>\n",
       "</div>"
      ],
      "text/plain": [
       "  studyName  Sample Number                              Species  Region  \\\n",
       "0   PAL0708              1  Adelie Penguin (Pygoscelis adeliae)  Anvers   \n",
       "1   PAL0708              2  Adelie Penguin (Pygoscelis adeliae)  Anvers   \n",
       "2   PAL0708              3  Adelie Penguin (Pygoscelis adeliae)  Anvers   \n",
       "3   PAL0708              4  Adelie Penguin (Pygoscelis adeliae)  Anvers   \n",
       "4   PAL0708              5  Adelie Penguin (Pygoscelis adeliae)  Anvers   \n",
       "\n",
       "      Island               Stage Individual ID Clutch Completion    Date Egg  \\\n",
       "0  Torgersen  Adult, 1 Egg Stage          N1A1               Yes  2007-11-11   \n",
       "1  Torgersen  Adult, 1 Egg Stage          N1A2               Yes  2007-11-11   \n",
       "2  Torgersen  Adult, 1 Egg Stage          N2A1               Yes  2007-11-16   \n",
       "3  Torgersen  Adult, 1 Egg Stage          N2A2               Yes  2007-11-16   \n",
       "4  Torgersen  Adult, 1 Egg Stage          N3A1               Yes  2007-11-16   \n",
       "\n",
       "   Culmen Length (mm)  Culmen Depth (mm)  Flipper Length (mm)  Body Mass (g)  \\\n",
       "0                39.1               18.7                181.0         3750.0   \n",
       "1                39.5               17.4                186.0         3800.0   \n",
       "2                40.3               18.0                195.0         3250.0   \n",
       "3                 NaN                NaN                  NaN            NaN   \n",
       "4                36.7               19.3                193.0         3450.0   \n",
       "\n",
       "      Sex  Delta 15 N (o/oo)  Delta 13 C (o/oo)  \\\n",
       "0    MALE                NaN                NaN   \n",
       "1  FEMALE            8.94956          -24.69454   \n",
       "2  FEMALE            8.36821          -25.33302   \n",
       "3     NaN                NaN                NaN   \n",
       "4  FEMALE            8.76651          -25.32426   \n",
       "\n",
       "                         Comments  \n",
       "0  Not enough blood for isotopes.  \n",
       "1                             NaN  \n",
       "2                             NaN  \n",
       "3              Adult not sampled.  \n",
       "4                             NaN  "
      ]
     },
     "execution_count": 19,
     "metadata": {},
     "output_type": "execute_result"
    }
   ],
   "source": [
    "import pandas as pd\n",
    "\n",
    "pd.read_csv(fname[0]).head()"
   ]
  },
  {
   "cell_type": "code",
   "execution_count": 20,
   "id": "140c5082",
   "metadata": {
    "execution": {
     "iopub.execute_input": "2022-04-05T22:34:04.078177Z",
     "iopub.status.busy": "2022-04-05T22:34:04.077753Z",
     "iopub.status.idle": "2022-04-05T22:34:04.084269Z",
     "shell.execute_reply": "2022-04-05T22:34:04.083673Z"
    }
   },
   "outputs": [
    {
     "data": {
      "text/plain": [
       "['/home/runner/.cache/pins-py/http_e6ac0d2da33fad7e72df6b900933a691b89ed7d54ec0e4a36fe45c32d7e2f67e/v/penguins_raw.csv']"
      ]
     },
     "execution_count": 20,
     "metadata": {},
     "output_type": "execute_result"
    }
   ],
   "source": [
    "my_data.pin_download(\"penguins\")"
   ]
  }
 ],
 "metadata": {
  "jupytext": {
   "text_representation": {
    "extension": ".Rmd",
    "format_name": "rmarkdown",
    "format_version": "1.2",
    "jupytext_version": "1.13.6"
   }
  },
  "kernelspec": {
   "display_name": "venv-pins-python",
   "language": "python",
   "name": "venv-pins-python"
  },
  "language_info": {
   "codemirror_mode": {
    "name": "ipython",
    "version": 3
   },
   "file_extension": ".py",
   "mimetype": "text/x-python",
   "name": "python",
   "nbconvert_exporter": "python",
   "pygments_lexer": "ipython3",
   "version": "3.8.12"
  }
 },
 "nbformat": 4,
 "nbformat_minor": 5
}
