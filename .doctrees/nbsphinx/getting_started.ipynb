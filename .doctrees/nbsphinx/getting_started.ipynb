{
 "cells": [
  {
   "cell_type": "markdown",
   "id": "f925d818",
   "metadata": {},
   "source": [
    "Getting Started\n",
    "===============\n",
    "\n",
    "The pins package helps you publish data sets, models, and other R objects, making it easy to share them across projects and with your colleagues.\n",
    "You can pin objects to a variety of \"boards\", including local folders (to share on a networked drive or with dropbox), RStudio connect, Amazon S3, and more.\n",
    "This vignette will introduce you to the basics of pins."
   ]
  },
  {
   "cell_type": "code",
   "execution_count": 1,
   "id": "4bc917bb",
   "metadata": {
    "execution": {
     "iopub.execute_input": "2022-03-23T15:26:09.392364Z",
     "iopub.status.busy": "2022-03-23T15:26:09.391955Z",
     "iopub.status.idle": "2022-03-23T15:26:09.426529Z",
     "shell.execute_reply": "2022-03-23T15:26:09.426006Z"
    }
   },
   "outputs": [],
   "source": [
    "import pins"
   ]
  },
  {
   "cell_type": "markdown",
   "id": "e4544d00",
   "metadata": {},
   "source": [
    "## Getting started\n",
    "\n",
    "Every pin lives in a pin *board*, so you must start by creating a pin board.\n",
    "In this vignette I'll use a temporary board which is automatically deleted when your R session is over:"
   ]
  },
  {
   "cell_type": "code",
   "execution_count": 2,
   "id": "a5e6ca35",
   "metadata": {
    "execution": {
     "iopub.execute_input": "2022-03-23T15:26:09.429444Z",
     "iopub.status.busy": "2022-03-23T15:26:09.429279Z",
     "iopub.status.idle": "2022-03-23T15:26:09.455688Z",
     "shell.execute_reply": "2022-03-23T15:26:09.455166Z"
    }
   },
   "outputs": [],
   "source": [
    "# TODO: simple board constructors\n",
    "import fsspec\n",
    "import tempfile\n",
    "\n",
    "fs = fsspec.filesystem(\"file\")\n",
    "tmp_dir = tempfile.TemporaryDirectory()\n",
    "\n",
    "board = pins.BaseBoard(tmp_dir.name, fs)"
   ]
  },
  {
   "cell_type": "markdown",
   "id": "0eeb7226",
   "metadata": {},
   "source": [
    "In real-life, you'd pick a board depending on how you want to share the data.\n",
    "Here are a few options:"
   ]
  },
  {
   "cell_type": "code",
   "execution_count": 3,
   "id": "4cd9a78d",
   "metadata": {
    "execution": {
     "iopub.execute_input": "2022-03-23T15:26:09.458802Z",
     "iopub.status.busy": "2022-03-23T15:26:09.458629Z",
     "iopub.status.idle": "2022-03-23T15:26:09.461012Z",
     "shell.execute_reply": "2022-03-23T15:26:09.460501Z"
    }
   },
   "outputs": [],
   "source": [
    "# TODO\n",
    "# board <- board_local() # share data across R sessions on the same computer\n",
    "# board <- board_folder(\"~/Dropbox\") # share data with others using dropbox\n",
    "# board <- board_folder(\"Z:\\\\my-team\\pins\") # share data using a shared network drive\n",
    "# board <- board_rsconnect() # share data with RStudio Connect"
   ]
  },
  {
   "cell_type": "markdown",
   "id": "897f0452",
   "metadata": {},
   "source": [
    "## Reading and writing data\n",
    "\n",
    "Once you have a pin board, you can write data to it with `pin_write()`:"
   ]
  },
  {
   "cell_type": "code",
   "execution_count": 4,
   "id": "b84c07d6",
   "metadata": {
    "execution": {
     "iopub.execute_input": "2022-03-23T15:26:09.463478Z",
     "iopub.status.busy": "2022-03-23T15:26:09.463214Z",
     "iopub.status.idle": "2022-03-23T15:26:09.829135Z",
     "shell.execute_reply": "2022-03-23T15:26:09.828596Z"
    }
   },
   "outputs": [
    {
     "data": {
      "text/plain": [
       "Meta(title='A pinned 32 x 11 CSV', description=None, created='20220323T152609Z', pin_hash='7f10d4e9942bb928', file='mtcars', file_size=1420, type='csv', api_version=1, version=Version(created=datetime.datetime(2022, 3, 23, 15, 26, 9, 817337), hash='7f10d4e9942bb928'), name='mtcars', user={})"
      ]
     },
     "execution_count": 4,
     "metadata": {},
     "output_type": "execute_result"
    }
   ],
   "source": [
    "from siuba.data import mtcars\n",
    "board.pin_write(mtcars, \"mtcars\", type=\"csv\")"
   ]
  },
  {
   "cell_type": "markdown",
   "id": "a4ad21cc",
   "metadata": {},
   "source": [
    "The first argument is the object to save (usually a data frame, but it can be any R object), and the second argument gives the \"name\" of the pin.\n",
    "The name is basically equivalent to a file name: you'll use it when you later want to read the data from the pin.\n",
    "The only rule for a pin name is that it can't contain slashes."
   ]
  }
 ],
 "metadata": {
  "jupytext": {
   "cell_metadata_filter": "-all",
   "main_language": "python",
   "notebook_metadata_filter": "-all",
   "text_representation": {
    "extension": ".Rmd",
    "format_name": "rmarkdown"
   }
  },
  "language_info": {
   "codemirror_mode": {
    "name": "ipython",
    "version": 3
   },
   "file_extension": ".py",
   "mimetype": "text/x-python",
   "name": "python",
   "nbconvert_exporter": "python",
   "pygments_lexer": "ipython3",
   "version": "3.8.12"
  }
 },
 "nbformat": 4,
 "nbformat_minor": 5
}
